{
 "cells": [
  {
   "cell_type": "code",
   "execution_count": 1,
   "metadata": {},
   "outputs": [],
   "source": [
    "import tensorflow as tf"
   ]
  },
  {
   "cell_type": "code",
   "execution_count": 2,
   "metadata": {},
   "outputs": [
    {
     "name": "stdout",
     "output_type": "stream",
     "text": [
      "2.2.0\n"
     ]
    }
   ],
   "source": [
    "#　バージョン確認\n",
    "print(tf.__version__)"
   ]
  },
  {
   "cell_type": "code",
   "execution_count": 3,
   "metadata": {},
   "outputs": [],
   "source": [
    "import numpy as np\n",
    "import pandas as pd\n",
    "import matplotlib.pyplot as plt"
   ]
  },
  {
   "cell_type": "markdown",
   "metadata": {},
   "source": [
    "# ニューラルネットワークモデルの構築\n",
    "\n",
    "1. データセットの準備\n",
    "\n",
    "2. モデルの構築\n",
    "\n",
    "3. モデルの学習\n",
    "\n",
    "4. 学習済みモデルの精度を評価\n",
    "\n",
    "5. 学習済みモデルを用いて推論"
   ]
  },
  {
   "cell_type": "code",
   "execution_count": 4,
   "metadata": {},
   "outputs": [],
   "source": [
    "# データの読み込み\n",
    "df = pd.read_csv('wine_class.csv')"
   ]
  },
  {
   "cell_type": "code",
   "execution_count": 5,
   "metadata": {},
   "outputs": [
    {
     "data": {
      "text/html": [
       "<div>\n",
       "<style scoped>\n",
       "    .dataframe tbody tr th:only-of-type {\n",
       "        vertical-align: middle;\n",
       "    }\n",
       "\n",
       "    .dataframe tbody tr th {\n",
       "        vertical-align: top;\n",
       "    }\n",
       "\n",
       "    .dataframe thead th {\n",
       "        text-align: right;\n",
       "    }\n",
       "</style>\n",
       "<table border=\"1\" class=\"dataframe\">\n",
       "  <thead>\n",
       "    <tr style=\"text-align: right;\">\n",
       "      <th></th>\n",
       "      <th>Class</th>\n",
       "      <th>Alcohol</th>\n",
       "      <th>Ash</th>\n",
       "      <th>Alcalinity of ash</th>\n",
       "      <th>Magnesium</th>\n",
       "      <th>Total phenols</th>\n",
       "      <th>Flavanoids</th>\n",
       "      <th>Nonflavanoid phenols</th>\n",
       "      <th>Color intensity</th>\n",
       "      <th>Hue</th>\n",
       "      <th>Proline</th>\n",
       "    </tr>\n",
       "  </thead>\n",
       "  <tbody>\n",
       "    <tr>\n",
       "      <th>0</th>\n",
       "      <td>1</td>\n",
       "      <td>14.23</td>\n",
       "      <td>2.43</td>\n",
       "      <td>15.6</td>\n",
       "      <td>127</td>\n",
       "      <td>2.80</td>\n",
       "      <td>3.06</td>\n",
       "      <td>0.28</td>\n",
       "      <td>5.64</td>\n",
       "      <td>1.04</td>\n",
       "      <td>1065</td>\n",
       "    </tr>\n",
       "    <tr>\n",
       "      <th>1</th>\n",
       "      <td>1</td>\n",
       "      <td>13.20</td>\n",
       "      <td>2.14</td>\n",
       "      <td>11.2</td>\n",
       "      <td>100</td>\n",
       "      <td>2.65</td>\n",
       "      <td>2.76</td>\n",
       "      <td>0.26</td>\n",
       "      <td>4.38</td>\n",
       "      <td>1.05</td>\n",
       "      <td>1050</td>\n",
       "    </tr>\n",
       "    <tr>\n",
       "      <th>2</th>\n",
       "      <td>1</td>\n",
       "      <td>13.16</td>\n",
       "      <td>2.67</td>\n",
       "      <td>18.6</td>\n",
       "      <td>101</td>\n",
       "      <td>2.80</td>\n",
       "      <td>3.24</td>\n",
       "      <td>0.30</td>\n",
       "      <td>5.68</td>\n",
       "      <td>1.03</td>\n",
       "      <td>1185</td>\n",
       "    </tr>\n",
       "  </tbody>\n",
       "</table>\n",
       "</div>"
      ],
      "text/plain": [
       "   Class  Alcohol   Ash  Alcalinity of ash  Magnesium  Total phenols  \\\n",
       "0      1    14.23  2.43               15.6        127           2.80   \n",
       "1      1    13.20  2.14               11.2        100           2.65   \n",
       "2      1    13.16  2.67               18.6        101           2.80   \n",
       "\n",
       "   Flavanoids  Nonflavanoid phenols  Color intensity   Hue  Proline  \n",
       "0        3.06                  0.28             5.64  1.04     1065  \n",
       "1        2.76                  0.26             4.38  1.05     1050  \n",
       "2        3.24                  0.30             5.68  1.03     1185  "
      ]
     },
     "execution_count": 5,
     "metadata": {},
     "output_type": "execute_result"
    }
   ],
   "source": [
    "# データの表示（先頭３件）\n",
    "df.head(3)"
   ]
  },
  {
   "cell_type": "markdown",
   "metadata": {},
   "source": [
    "ワイン等級を正解データとする"
   ]
  },
  {
   "cell_type": "code",
   "execution_count": 7,
   "metadata": {},
   "outputs": [],
   "source": [
    "# 目的変数\n",
    "t = df['Class']\n",
    "# 入力変数\n",
    "x = df.drop('Class', axis=1)"
   ]
  },
  {
   "cell_type": "code",
   "execution_count": 8,
   "metadata": {},
   "outputs": [
    {
     "data": {
      "text/html": [
       "<div>\n",
       "<style scoped>\n",
       "    .dataframe tbody tr th:only-of-type {\n",
       "        vertical-align: middle;\n",
       "    }\n",
       "\n",
       "    .dataframe tbody tr th {\n",
       "        vertical-align: top;\n",
       "    }\n",
       "\n",
       "    .dataframe thead th {\n",
       "        text-align: right;\n",
       "    }\n",
       "</style>\n",
       "<table border=\"1\" class=\"dataframe\">\n",
       "  <thead>\n",
       "    <tr style=\"text-align: right;\">\n",
       "      <th></th>\n",
       "      <th>Alcohol</th>\n",
       "      <th>Ash</th>\n",
       "      <th>Alcalinity of ash</th>\n",
       "      <th>Magnesium</th>\n",
       "      <th>Total phenols</th>\n",
       "      <th>Flavanoids</th>\n",
       "      <th>Nonflavanoid phenols</th>\n",
       "      <th>Color intensity</th>\n",
       "      <th>Hue</th>\n",
       "      <th>Proline</th>\n",
       "    </tr>\n",
       "  </thead>\n",
       "  <tbody>\n",
       "    <tr>\n",
       "      <th>0</th>\n",
       "      <td>14.23</td>\n",
       "      <td>2.43</td>\n",
       "      <td>15.6</td>\n",
       "      <td>127</td>\n",
       "      <td>2.80</td>\n",
       "      <td>3.06</td>\n",
       "      <td>0.28</td>\n",
       "      <td>5.64</td>\n",
       "      <td>1.04</td>\n",
       "      <td>1065</td>\n",
       "    </tr>\n",
       "    <tr>\n",
       "      <th>1</th>\n",
       "      <td>13.20</td>\n",
       "      <td>2.14</td>\n",
       "      <td>11.2</td>\n",
       "      <td>100</td>\n",
       "      <td>2.65</td>\n",
       "      <td>2.76</td>\n",
       "      <td>0.26</td>\n",
       "      <td>4.38</td>\n",
       "      <td>1.05</td>\n",
       "      <td>1050</td>\n",
       "    </tr>\n",
       "    <tr>\n",
       "      <th>2</th>\n",
       "      <td>13.16</td>\n",
       "      <td>2.67</td>\n",
       "      <td>18.6</td>\n",
       "      <td>101</td>\n",
       "      <td>2.80</td>\n",
       "      <td>3.24</td>\n",
       "      <td>0.30</td>\n",
       "      <td>5.68</td>\n",
       "      <td>1.03</td>\n",
       "      <td>1185</td>\n",
       "    </tr>\n",
       "  </tbody>\n",
       "</table>\n",
       "</div>"
      ],
      "text/plain": [
       "   Alcohol   Ash  Alcalinity of ash  Magnesium  Total phenols  Flavanoids  \\\n",
       "0    14.23  2.43               15.6        127           2.80        3.06   \n",
       "1    13.20  2.14               11.2        100           2.65        2.76   \n",
       "2    13.16  2.67               18.6        101           2.80        3.24   \n",
       "\n",
       "   Nonflavanoid phenols  Color intensity   Hue  Proline  \n",
       "0                  0.28             5.64  1.04     1065  \n",
       "1                  0.26             4.38  1.05     1050  \n",
       "2                  0.30             5.68  1.03     1185  "
      ]
     },
     "execution_count": 8,
     "metadata": {},
     "output_type": "execute_result"
    }
   ],
   "source": [
    "x.head(3)"
   ]
  },
  {
   "cell_type": "code",
   "execution_count": 9,
   "metadata": {},
   "outputs": [
    {
     "data": {
      "text/plain": [
       "0    1\n",
       "1    1\n",
       "2    1\n",
       "Name: Class, dtype: int64"
      ]
     },
     "execution_count": 9,
     "metadata": {},
     "output_type": "execute_result"
    }
   ],
   "source": [
    "t.head(3)"
   ]
  },
  {
   "cell_type": "code",
   "execution_count": 10,
   "metadata": {},
   "outputs": [
    {
     "data": {
      "text/plain": [
       "((178, 10), (178,))"
      ]
     },
     "execution_count": 10,
     "metadata": {},
     "output_type": "execute_result"
    }
   ],
   "source": [
    "# 形の確認\n",
    "x.shape, t.shape"
   ]
  },
  {
   "cell_type": "code",
   "execution_count": 14,
   "metadata": {},
   "outputs": [
    {
     "data": {
      "text/plain": [
       "pandas.core.frame.DataFrame"
      ]
     },
     "execution_count": 14,
     "metadata": {},
     "output_type": "execute_result"
    }
   ],
   "source": [
    "# PandasのDataFrame\n",
    "type(x)"
   ]
  },
  {
   "cell_type": "code",
   "execution_count": 13,
   "metadata": {},
   "outputs": [
    {
     "data": {
      "text/plain": [
       "numpy.ndarray"
      ]
     },
     "execution_count": 13,
     "metadata": {},
     "output_type": "execute_result"
    }
   ],
   "source": [
    "# NumPyに変換\n",
    "type(x.values)"
   ]
  },
  {
   "cell_type": "code",
   "execution_count": 15,
   "metadata": {},
   "outputs": [
    {
     "data": {
      "text/plain": [
       "array([1, 2, 3])"
      ]
     },
     "execution_count": 15,
     "metadata": {},
     "output_type": "execute_result"
    }
   ],
   "source": [
    "# ユニークな値を確認\n",
    "np.unique(t)"
   ]
  },
  {
   "cell_type": "code",
   "execution_count": 16,
   "metadata": {},
   "outputs": [],
   "source": [
    "# ラベルを 0 から始める (NumPyのブロードキャスト)\n",
    "t = t.values - 1\n",
    "x = x.values"
   ]
  },
  {
   "cell_type": "code",
   "execution_count": 17,
   "metadata": {},
   "outputs": [
    {
     "data": {
      "text/plain": [
       "(array([0, 0, 0, 0, 0, 0, 0, 0, 0, 0, 0, 0, 0, 0, 0, 0, 0, 0, 0, 0, 0, 0,\n",
       "        0, 0, 0, 0, 0, 0, 0, 0, 0, 0, 0, 0, 0, 0, 0, 0, 0, 0, 0, 0, 0, 0,\n",
       "        0, 0, 0, 0, 0, 0, 0, 0, 0, 0, 0, 0, 0, 0, 0, 1, 1, 1, 1, 1, 1, 1,\n",
       "        1, 1, 1, 1, 1, 1, 1, 1, 1, 1, 1, 1, 1, 1, 1, 1, 1, 1, 1, 1, 1, 1,\n",
       "        1, 1, 1, 1, 1, 1, 1, 1, 1, 1, 1, 1, 1, 1, 1, 1, 1, 1, 1, 1, 1, 1,\n",
       "        1, 1, 1, 1, 1, 1, 1, 1, 1, 1, 1, 1, 1, 1, 1, 1, 1, 1, 1, 1, 2, 2,\n",
       "        2, 2, 2, 2, 2, 2, 2, 2, 2, 2, 2, 2, 2, 2, 2, 2, 2, 2, 2, 2, 2, 2,\n",
       "        2, 2, 2, 2, 2, 2, 2, 2, 2, 2, 2, 2, 2, 2, 2, 2, 2, 2, 2, 2, 2, 2,\n",
       "        2, 2]),\n",
       " numpy.ndarray)"
      ]
     },
     "execution_count": 17,
     "metadata": {},
     "output_type": "execute_result"
    }
   ],
   "source": [
    "t, type(t)"
   ]
  },
  {
   "cell_type": "code",
   "execution_count": 18,
   "metadata": {},
   "outputs": [
    {
     "data": {
      "text/plain": [
       "(array([[1.423e+01, 2.430e+00, 1.560e+01, ..., 5.640e+00, 1.040e+00,\n",
       "         1.065e+03],\n",
       "        [1.320e+01, 2.140e+00, 1.120e+01, ..., 4.380e+00, 1.050e+00,\n",
       "         1.050e+03],\n",
       "        [1.316e+01, 2.670e+00, 1.860e+01, ..., 5.680e+00, 1.030e+00,\n",
       "         1.185e+03],\n",
       "        ...,\n",
       "        [1.327e+01, 2.260e+00, 2.000e+01, ..., 1.020e+01, 5.900e-01,\n",
       "         8.350e+02],\n",
       "        [1.317e+01, 2.370e+00, 2.000e+01, ..., 9.300e+00, 6.000e-01,\n",
       "         8.400e+02],\n",
       "        [1.413e+01, 2.740e+00, 2.450e+01, ..., 9.200e+00, 6.100e-01,\n",
       "         5.600e+02]]),\n",
       " numpy.ndarray)"
      ]
     },
     "execution_count": 18,
     "metadata": {},
     "output_type": "execute_result"
    }
   ],
   "source": [
    "x, type(x)"
   ]
  },
  {
   "cell_type": "code",
   "execution_count": 19,
   "metadata": {},
   "outputs": [],
   "source": [
    "from sklearn.model_selection import train_test_split\n",
    "\n",
    "# 学習データとテストデータの分割\n",
    "x_train, x_test, t_train, t_test = train_test_split(x, t, train_size=0.7, random_state=0)"
   ]
  },
  {
   "cell_type": "code",
   "execution_count": 20,
   "metadata": {},
   "outputs": [
    {
     "data": {
      "text/plain": [
       "((124, 10), dtype('float64'), (54, 10), dtype('float64'))"
      ]
     },
     "execution_count": 20,
     "metadata": {},
     "output_type": "execute_result"
    }
   ],
   "source": [
    "x_train.shape, x_train.dtype, x_test.shape, x_test.dtype"
   ]
  },
  {
   "cell_type": "code",
   "execution_count": 21,
   "metadata": {},
   "outputs": [
    {
     "data": {
      "text/plain": [
       "((124,), dtype('int64'), (54,), dtype('int64'))"
      ]
     },
     "execution_count": 21,
     "metadata": {},
     "output_type": "execute_result"
    }
   ],
   "source": [
    "t_train.shape, t_train.dtype, t_test.shape, t_test.dtype"
   ]
  },
  {
   "cell_type": "code",
   "execution_count": 22,
   "metadata": {},
   "outputs": [],
   "source": [
    "# 32 bit にキャスト(データ型の変更)\n",
    "x_train = np.array(x_train, np.float32)\n",
    "x_test = np.array(x_train, np.float32)\n",
    "t_train = np.array(t_train, np.int32)\n",
    "t_test = np.array(t_train, np.int32)"
   ]
  },
  {
   "cell_type": "code",
   "execution_count": 23,
   "metadata": {},
   "outputs": [
    {
     "data": {
      "text/plain": [
       "((124, 10), dtype('float32'), (124, 10), dtype('float32'))"
      ]
     },
     "execution_count": 23,
     "metadata": {},
     "output_type": "execute_result"
    }
   ],
   "source": [
    "x_train.shape, x_train.dtype, x_test.shape, x_test.dtype"
   ]
  },
  {
   "cell_type": "code",
   "execution_count": 24,
   "metadata": {},
   "outputs": [
    {
     "data": {
      "text/plain": [
       "((124,), dtype('int32'), (124,), dtype('int32'))"
      ]
     },
     "execution_count": 24,
     "metadata": {},
     "output_type": "execute_result"
    }
   ],
   "source": [
    "t_train.shape, t_train.dtype, t_test.shape, t_test.dtype"
   ]
  },
  {
   "cell_type": "markdown",
   "metadata": {},
   "source": [
    "# モデルの定義\n",
    "\n",
    "1. 'tf.keras.models.Sequential()' を用意する\n",
    "2. 内部に 'tf.keras.layers.層の名前()' を積み重ねて記述する\n",
    "3. 変数 (model) に渡してインスタンス化を行う\n",
    "\n",
    "'tf.keras.layers.層の名前()'の部分で全結合層(Dense)や活性化関数(Activation)などを追加する\n",
    "\n",
    "モデル構築の前に、乱数のシードを固定\n",
    "Python の乱数、random 関数、 numpy そして tensorflow を固定\n",
    "乱数が固定され、CPU であれば再現性の確保が可能"
   ]
  },
  {
   "cell_type": "code",
   "execution_count": 25,
   "metadata": {},
   "outputs": [],
   "source": [
    "import os, random\n",
    "\n",
    "def reset_seed(seed=0):\n",
    "    os.environ['PYTHONHASHSEED'] = '0'\n",
    "    random.seed(seed) # random関数のシードを固定\n",
    "    np.random.seed(seed) # numpyのシードを固定\n",
    "    tf.random.set_seed(seed) # tensorflowのシードを固定"
   ]
  },
  {
   "cell_type": "markdown",
   "metadata": {},
   "source": [
    "モデルの構築に頻出のコード\n",
    "\n",
    "tensorflow.keras.models : モデルインスタンスの立ち上げやモデルの保存を担当\n",
    "\n",
    "tensorflow.keras.layers : 全結合層 (Dense) などニューラルネットワークの層 (layer) の定義を担当\n",
    "\n",
    "models.Sequential 内に定義したい層をリスト形式で導入\n",
    ".add()を利用することもできる\n",
    "\n",
    "全結合層: layers.Dense()\n",
    "\n",
    "layers.Dense(units, activation, input_shape)\n",
    "1. units : 出力の次元数\n",
    "2. activation : 使用する活性化関数\n",
    "3. input_shape : 入力の次元数"
   ]
  },
  {
   "cell_type": "code",
   "execution_count": 26,
   "metadata": {},
   "outputs": [],
   "source": [
    "from tensorflow.keras import models, layers"
   ]
  },
  {
   "cell_type": "code",
   "execution_count": 27,
   "metadata": {},
   "outputs": [],
   "source": [
    "# シードの固定\n",
    "reset_seed(0)\n",
    "\n",
    "# モデルの構築\n",
    "model = models.Sequential([\n",
    "    layers.Dense(units=10, activation='relu', input_shape=(10,)),\n",
    "    layers.Dense(units=3, activation='softmax')\n",
    "])"
   ]
  },
  {
   "cell_type": "code",
   "execution_count": 28,
   "metadata": {},
   "outputs": [
    {
     "data": {
      "text/plain": [
       "'.add()メソッドを利用した場合'"
      ]
     },
     "execution_count": 28,
     "metadata": {},
     "output_type": "execute_result"
    }
   ],
   "source": [
    "'''.add()メソッドを利用した場合'''\n",
    "\n",
    "# モデルの構築\n",
    "# model = models.Sequential()\n",
    "# model.add(layers.Dense(units=10, activation='relu', input_shape=(10,)))\n",
    "# model.add(layers.Dense(units=3, activation='softmax'))"
   ]
  },
  {
   "cell_type": "markdown",
   "metadata": {},
   "source": [
    "# 学習プロセスの定義\n",
    "\n",
    "学習に必要な目的関数や最適化手法などの詳細設定\n",
    "Keras では\n",
    "\n",
    "model.compile()\n",
    "\n",
    "で学習プロセスを構成、3 つの重要な引数を取得\n",
    "\n",
    "\n",
    "1. optimizer：最適化手法を指定\n",
    "\n",
    "    - tf.keras.optimizers モジュールからインスタンスを渡す\n",
    "    - eg. SGD, Adam\n",
    "\n",
    "2. loss：目的関数を指定\n",
    "\n",
    "    - tf.keras.losses モジュールからインスタンスを渡す\n",
    "    - 回帰：MeanSquaredError : MSE (平均ニ乗誤差)\n",
    "    - 分類：SparseCategoricalCrossentropy or BinaryCrossentropy (クロスエントロピー)\n",
    "\n",
    "3. metrics：学習中にモニタリングする評価指標を指定\n",
    "    - tf.keras.metrics モジュールからインスタンスを渡す\n",
    "    - 回帰：MeanAbsoluteError(平均絶対値誤差)\n",
    "    - 分類：Accuracy(正解率)"
   ]
  },
  {
   "cell_type": "markdown",
   "metadata": {},
   "source": [
    "Tutorialでは\n",
    "- optimizer : SGD\n",
    "- loss : SparseCategoricalCrossentropy\n",
    "- metrics : Accuracy\n",
    "\n",
    "を使用"
   ]
  },
  {
   "cell_type": "code",
   "execution_count": 29,
   "metadata": {},
   "outputs": [],
   "source": [
    "# モデルのコンパイル\n",
    "model.compile(optimizer='sgd',\n",
    "               loss='sparse_categorical_crossentropy',\n",
    "               metrics=['accuracy'])\n",
    "\n",
    "# こちらでも同じ\n",
    "# model.compile(optimizer=tf.keras.optimizers.SGD(),\n",
    "#                loss=tf.keras.losses.SparseCategoricalCrossentropy(),\n",
    "#                metrics=[tf.keras.metrics.Accuracy()])"
   ]
  },
  {
   "cell_type": "markdown",
   "metadata": {},
   "source": [
    "# モデルの学習\n",
    "model.fitを利用\n",
    "\n",
    "1. epochs：入力データ全体に対する 1 つの反復回数を指定します\n",
    "2. batch_size：データをバッチにスライスし、バッチごとに反復処理されます。その各バッチのサイズを指定します\n",
    "3. validation_data：検証データのパフォーマンスをモニタリングするために、(入力値, 目標値) のタプルを渡すと各エポック終わりに渡された推論モードで loss と metrics の値を表示します"
   ]
  },
  {
   "cell_type": "code",
   "execution_count": 30,
   "metadata": {},
   "outputs": [
    {
     "name": "stdout",
     "output_type": "stream",
     "text": [
      "Epoch 1/10\n",
      "13/13 [==============================] - 0s 11ms/step - loss: 494.3857 - accuracy: 0.2984 - val_loss: 1.0982 - val_accuracy: 0.3952\n",
      "Epoch 2/10\n",
      "13/13 [==============================] - 0s 3ms/step - loss: 1.0982 - accuracy: 0.3952 - val_loss: 1.0971 - val_accuracy: 0.3952\n",
      "Epoch 3/10\n",
      "13/13 [==============================] - 0s 3ms/step - loss: 1.0972 - accuracy: 0.3952 - val_loss: 1.0966 - val_accuracy: 0.3952\n",
      "Epoch 4/10\n",
      "13/13 [==============================] - 0s 3ms/step - loss: 1.0967 - accuracy: 0.3952 - val_loss: 1.0962 - val_accuracy: 0.3952\n",
      "Epoch 5/10\n",
      "13/13 [==============================] - 0s 3ms/step - loss: 1.0964 - accuracy: 0.3952 - val_loss: 1.0955 - val_accuracy: 0.3952\n",
      "Epoch 6/10\n",
      "13/13 [==============================] - 0s 3ms/step - loss: 1.0955 - accuracy: 0.3952 - val_loss: 1.0949 - val_accuracy: 0.3952\n",
      "Epoch 7/10\n",
      "13/13 [==============================] - 0s 3ms/step - loss: 1.0948 - accuracy: 0.3952 - val_loss: 1.0945 - val_accuracy: 0.3952\n",
      "Epoch 8/10\n",
      "13/13 [==============================] - 0s 2ms/step - loss: 1.0945 - accuracy: 0.3952 - val_loss: 1.0942 - val_accuracy: 0.3952\n",
      "Epoch 9/10\n",
      "13/13 [==============================] - 0s 3ms/step - loss: 1.0941 - accuracy: 0.3952 - val_loss: 1.0938 - val_accuracy: 0.3952\n",
      "Epoch 10/10\n",
      "13/13 [==============================] - 0s 2ms/step - loss: 1.0941 - accuracy: 0.3952 - val_loss: 1.0934 - val_accuracy: 0.3952\n"
     ]
    }
   ],
   "source": [
    "# モデルの学習\n",
    "history = model.fit(x_train, t_train,\n",
    "          batch_size=10,\n",
    "          epochs=10,\n",
    "          validation_data=(x_test, t_test))"
   ]
  },
  {
   "cell_type": "code",
   "execution_count": 31,
   "metadata": {},
   "outputs": [
    {
     "data": {
      "text/plain": [
       "{'loss': [494.3856506347656,\n",
       "  1.0981626510620117,\n",
       "  1.0972340106964111,\n",
       "  1.0966664552688599,\n",
       "  1.0963795185089111,\n",
       "  1.0955145359039307,\n",
       "  1.094819188117981,\n",
       "  1.0944644212722778,\n",
       "  1.0941150188446045,\n",
       "  1.0940911769866943],\n",
       " 'accuracy': [0.2983871102333069,\n",
       "  0.39516130089759827,\n",
       "  0.39516130089759827,\n",
       "  0.39516130089759827,\n",
       "  0.39516130089759827,\n",
       "  0.39516130089759827,\n",
       "  0.39516130089759827,\n",
       "  0.39516130089759827,\n",
       "  0.39516130089759827,\n",
       "  0.39516130089759827],\n",
       " 'val_loss': [1.098228096961975,\n",
       "  1.0971368551254272,\n",
       "  1.096636414527893,\n",
       "  1.09623122215271,\n",
       "  1.0955188274383545,\n",
       "  1.0949188470840454,\n",
       "  1.0944960117340088,\n",
       "  1.0941643714904785,\n",
       "  1.0938093662261963,\n",
       "  1.0934256315231323],\n",
       " 'val_accuracy': [0.39516130089759827,\n",
       "  0.39516130089759827,\n",
       "  0.39516130089759827,\n",
       "  0.39516130089759827,\n",
       "  0.39516130089759827,\n",
       "  0.39516130089759827,\n",
       "  0.39516130089759827,\n",
       "  0.39516130089759827,\n",
       "  0.39516130089759827,\n",
       "  0.39516130089759827]}"
      ]
     },
     "execution_count": 31,
     "metadata": {},
     "output_type": "execute_result"
    }
   ],
   "source": [
    "# 学習過程\n",
    "history.history"
   ]
  },
  {
   "cell_type": "code",
   "execution_count": 33,
   "metadata": {},
   "outputs": [
    {
     "data": {
      "text/html": [
       "<div>\n",
       "<style scoped>\n",
       "    .dataframe tbody tr th:only-of-type {\n",
       "        vertical-align: middle;\n",
       "    }\n",
       "\n",
       "    .dataframe tbody tr th {\n",
       "        vertical-align: top;\n",
       "    }\n",
       "\n",
       "    .dataframe thead th {\n",
       "        text-align: right;\n",
       "    }\n",
       "</style>\n",
       "<table border=\"1\" class=\"dataframe\">\n",
       "  <thead>\n",
       "    <tr style=\"text-align: right;\">\n",
       "      <th></th>\n",
       "      <th>loss</th>\n",
       "      <th>accuracy</th>\n",
       "      <th>val_loss</th>\n",
       "      <th>val_accuracy</th>\n",
       "    </tr>\n",
       "  </thead>\n",
       "  <tbody>\n",
       "    <tr>\n",
       "      <th>0</th>\n",
       "      <td>494.385651</td>\n",
       "      <td>0.298387</td>\n",
       "      <td>1.098228</td>\n",
       "      <td>0.395161</td>\n",
       "    </tr>\n",
       "    <tr>\n",
       "      <th>1</th>\n",
       "      <td>1.098163</td>\n",
       "      <td>0.395161</td>\n",
       "      <td>1.097137</td>\n",
       "      <td>0.395161</td>\n",
       "    </tr>\n",
       "    <tr>\n",
       "      <th>2</th>\n",
       "      <td>1.097234</td>\n",
       "      <td>0.395161</td>\n",
       "      <td>1.096636</td>\n",
       "      <td>0.395161</td>\n",
       "    </tr>\n",
       "    <tr>\n",
       "      <th>3</th>\n",
       "      <td>1.096666</td>\n",
       "      <td>0.395161</td>\n",
       "      <td>1.096231</td>\n",
       "      <td>0.395161</td>\n",
       "    </tr>\n",
       "    <tr>\n",
       "      <th>4</th>\n",
       "      <td>1.096380</td>\n",
       "      <td>0.395161</td>\n",
       "      <td>1.095519</td>\n",
       "      <td>0.395161</td>\n",
       "    </tr>\n",
       "  </tbody>\n",
       "</table>\n",
       "</div>"
      ],
      "text/plain": [
       "         loss  accuracy  val_loss  val_accuracy\n",
       "0  494.385651  0.298387  1.098228      0.395161\n",
       "1    1.098163  0.395161  1.097137      0.395161\n",
       "2    1.097234  0.395161  1.096636      0.395161\n",
       "3    1.096666  0.395161  1.096231      0.395161\n",
       "4    1.096380  0.395161  1.095519      0.395161"
      ]
     },
     "execution_count": 33,
     "metadata": {},
     "output_type": "execute_result"
    }
   ],
   "source": [
    "# Pandas 形式に変換\n",
    "result = pd.DataFrame(history.history)\n",
    "result.head()"
   ]
  },
  {
   "cell_type": "code",
   "execution_count": 34,
   "metadata": {},
   "outputs": [
    {
     "data": {
      "image/png": "[encoded data removed]",
      "text/plain": [
       "<Figure size 432x288 with 1 Axes>"
      ]
     },
     "metadata": {
      "needs_background": "light"
     },
     "output_type": "display_data"
    }
   ],
   "source": [
    "# 目的関数の値 (pandasの内部のmetplotlibを利用)\n",
    "result[['loss', 'val_loss']].plot();"
   ]
  },
  {
   "cell_type": "code",
   "execution_count": 35,
   "metadata": {},
   "outputs": [
    {
     "data": {
      "image/png": "[encoded data removed]",
      "text/plain": [
       "<Figure size 432x288 with 1 Axes>"
      ]
     },
     "metadata": {
      "needs_background": "light"
     },
     "output_type": "display_data"
    }
   ],
   "source": [
    "# 正解率\n",
    "result[['accuracy', 'val_accuracy']].plot();"
   ]
  },
  {
   "cell_type": "markdown",
   "metadata": {},
   "source": [
    "モデル精度の向上\n",
    "- バッチノーマリゼーション\n",
    "\n",
    "ミニバッチごとの平均と標準偏差を求め、標準化を行う\n",
    "\n",
    "tf.keras.layers.BatchNormalizationで適用"
   ]
  },
  {
   "cell_type": "code",
   "execution_count": 36,
   "metadata": {},
   "outputs": [
    {
     "name": "stdout",
     "output_type": "stream",
     "text": [
      "Epoch 1/50\n",
      "13/13 [==============================] - 0s 14ms/step - loss: 1.1147 - accuracy: 0.4113 - val_loss: 6.6567 - val_accuracy: 0.2823\n",
      "Epoch 2/50\n",
      "13/13 [==============================] - 0s 3ms/step - loss: 0.9663 - accuracy: 0.5242 - val_loss: 4.8539 - val_accuracy: 0.4194\n",
      "Epoch 3/50\n",
      "13/13 [==============================] - 0s 3ms/step - loss: 0.8845 - accuracy: 0.6371 - val_loss: 4.2069 - val_accuracy: 0.5968\n",
      "Epoch 4/50\n",
      "13/13 [==============================] - 0s 3ms/step - loss: 0.7976 - accuracy: 0.6452 - val_loss: 3.8261 - val_accuracy: 0.5968\n",
      "Epoch 5/50\n",
      "13/13 [==============================] - 0s 3ms/step - loss: 0.7996 - accuracy: 0.6774 - val_loss: 3.5485 - val_accuracy: 0.5887\n",
      "Epoch 6/50\n",
      "13/13 [==============================] - 0s 3ms/step - loss: 0.6504 - accuracy: 0.8065 - val_loss: 3.2491 - val_accuracy: 0.5806\n",
      "Epoch 7/50\n",
      "13/13 [==============================] - 0s 3ms/step - loss: 0.5695 - accuracy: 0.8548 - val_loss: 2.9814 - val_accuracy: 0.5726\n",
      "Epoch 8/50\n",
      "13/13 [==============================] - 0s 3ms/step - loss: 0.5275 - accuracy: 0.8710 - val_loss: 2.7237 - val_accuracy: 0.5806\n",
      "Epoch 9/50\n",
      "13/13 [==============================] - 0s 2ms/step - loss: 0.4686 - accuracy: 0.8710 - val_loss: 2.4249 - val_accuracy: 0.5806\n",
      "Epoch 10/50\n",
      "13/13 [==============================] - 0s 2ms/step - loss: 0.5327 - accuracy: 0.8065 - val_loss: 2.1775 - val_accuracy: 0.5887\n",
      "Epoch 11/50\n",
      "13/13 [==============================] - 0s 2ms/step - loss: 0.4810 - accuracy: 0.8226 - val_loss: 1.8819 - val_accuracy: 0.5887\n",
      "Epoch 12/50\n",
      "13/13 [==============================] - 0s 2ms/step - loss: 0.4626 - accuracy: 0.8790 - val_loss: 1.6278 - val_accuracy: 0.5968\n",
      "Epoch 13/50\n",
      "13/13 [==============================] - 0s 2ms/step - loss: 0.3677 - accuracy: 0.9113 - val_loss: 1.3965 - val_accuracy: 0.6048\n",
      "Epoch 14/50\n",
      "13/13 [==============================] - 0s 2ms/step - loss: 0.3924 - accuracy: 0.9113 - val_loss: 1.1914 - val_accuracy: 0.6694\n",
      "Epoch 15/50\n",
      "13/13 [==============================] - 0s 2ms/step - loss: 0.3351 - accuracy: 0.9113 - val_loss: 1.0171 - val_accuracy: 0.6935\n",
      "Epoch 16/50\n",
      "13/13 [==============================] - 0s 3ms/step - loss: 0.4183 - accuracy: 0.8548 - val_loss: 0.8510 - val_accuracy: 0.7097\n",
      "Epoch 17/50\n",
      "13/13 [==============================] - 0s 3ms/step - loss: 0.3328 - accuracy: 0.9032 - val_loss: 0.7204 - val_accuracy: 0.7581\n",
      "Epoch 18/50\n",
      "13/13 [==============================] - 0s 3ms/step - loss: 0.3750 - accuracy: 0.8710 - val_loss: 0.6181 - val_accuracy: 0.7903\n",
      "Epoch 19/50\n",
      "13/13 [==============================] - 0s 2ms/step - loss: 0.4409 - accuracy: 0.8710 - val_loss: 0.5402 - val_accuracy: 0.8226\n",
      "Epoch 20/50\n",
      "13/13 [==============================] - 0s 2ms/step - loss: 0.2832 - accuracy: 0.9032 - val_loss: 0.4689 - val_accuracy: 0.8468\n",
      "Epoch 21/50\n",
      "13/13 [==============================] - 0s 2ms/step - loss: 0.2926 - accuracy: 0.9032 - val_loss: 0.4084 - val_accuracy: 0.8710\n",
      "Epoch 22/50\n",
      "13/13 [==============================] - 0s 2ms/step - loss: 0.3189 - accuracy: 0.9194 - val_loss: 0.3653 - val_accuracy: 0.8871\n",
      "Epoch 23/50\n",
      "13/13 [==============================] - 0s 3ms/step - loss: 0.3246 - accuracy: 0.9032 - val_loss: 0.3222 - val_accuracy: 0.9194\n",
      "Epoch 24/50\n",
      "13/13 [==============================] - 0s 3ms/step - loss: 0.2934 - accuracy: 0.9113 - val_loss: 0.2938 - val_accuracy: 0.9274\n",
      "Epoch 25/50\n",
      "13/13 [==============================] - 0s 3ms/step - loss: 0.3174 - accuracy: 0.8710 - val_loss: 0.2668 - val_accuracy: 0.9274\n",
      "Epoch 26/50\n",
      "13/13 [==============================] - 0s 3ms/step - loss: 0.2584 - accuracy: 0.9274 - val_loss: 0.2471 - val_accuracy: 0.9274\n",
      "Epoch 27/50\n",
      "13/13 [==============================] - 0s 3ms/step - loss: 0.3048 - accuracy: 0.8952 - val_loss: 0.2305 - val_accuracy: 0.9274\n",
      "Epoch 28/50\n",
      "13/13 [==============================] - 0s 3ms/step - loss: 0.2270 - accuracy: 0.9435 - val_loss: 0.2140 - val_accuracy: 0.9435\n",
      "Epoch 29/50\n",
      "13/13 [==============================] - 0s 3ms/step - loss: 0.2337 - accuracy: 0.9274 - val_loss: 0.2031 - val_accuracy: 0.9435\n",
      "Epoch 30/50\n",
      "13/13 [==============================] - 0s 2ms/step - loss: 0.2220 - accuracy: 0.9274 - val_loss: 0.1933 - val_accuracy: 0.9435\n",
      "Epoch 31/50\n",
      "13/13 [==============================] - 0s 2ms/step - loss: 0.2324 - accuracy: 0.9435 - val_loss: 0.1841 - val_accuracy: 0.9435\n",
      "Epoch 32/50\n",
      "13/13 [==============================] - 0s 2ms/step - loss: 0.2138 - accuracy: 0.9274 - val_loss: 0.1725 - val_accuracy: 0.9516\n",
      "Epoch 33/50\n",
      "13/13 [==============================] - 0s 2ms/step - loss: 0.1843 - accuracy: 0.9516 - val_loss: 0.1621 - val_accuracy: 0.9516\n",
      "Epoch 34/50\n",
      "13/13 [==============================] - 0s 2ms/step - loss: 0.1935 - accuracy: 0.9194 - val_loss: 0.1530 - val_accuracy: 0.9516\n",
      "Epoch 35/50\n",
      "13/13 [==============================] - 0s 3ms/step - loss: 0.2269 - accuracy: 0.9516 - val_loss: 0.1452 - val_accuracy: 0.9597\n",
      "Epoch 36/50\n",
      "13/13 [==============================] - 0s 2ms/step - loss: 0.2623 - accuracy: 0.9274 - val_loss: 0.1390 - val_accuracy: 0.9597\n",
      "Epoch 37/50\n",
      "13/13 [==============================] - 0s 2ms/step - loss: 0.2020 - accuracy: 0.9516 - val_loss: 0.1337 - val_accuracy: 0.9597\n",
      "Epoch 38/50\n",
      "13/13 [==============================] - 0s 2ms/step - loss: 0.2236 - accuracy: 0.9435 - val_loss: 0.1304 - val_accuracy: 0.9597\n",
      "Epoch 39/50\n",
      "13/13 [==============================] - 0s 2ms/step - loss: 0.1983 - accuracy: 0.9355 - val_loss: 0.1251 - val_accuracy: 0.9677\n",
      "Epoch 40/50\n",
      "13/13 [==============================] - 0s 2ms/step - loss: 0.2644 - accuracy: 0.9032 - val_loss: 0.1208 - val_accuracy: 0.9677\n",
      "Epoch 41/50\n",
      "13/13 [==============================] - 0s 2ms/step - loss: 0.2510 - accuracy: 0.9516 - val_loss: 0.1208 - val_accuracy: 0.9677\n",
      "Epoch 42/50\n",
      "13/13 [==============================] - 0s 2ms/step - loss: 0.2012 - accuracy: 0.9274 - val_loss: 0.1179 - val_accuracy: 0.9677\n",
      "Epoch 43/50\n",
      "13/13 [==============================] - 0s 3ms/step - loss: 0.1516 - accuracy: 0.9516 - val_loss: 0.1151 - val_accuracy: 0.9677\n",
      "Epoch 44/50\n",
      "13/13 [==============================] - 0s 3ms/step - loss: 0.1855 - accuracy: 0.9597 - val_loss: 0.1125 - val_accuracy: 0.9677\n",
      "Epoch 45/50\n",
      "13/13 [==============================] - 0s 3ms/step - loss: 0.2121 - accuracy: 0.9113 - val_loss: 0.1102 - val_accuracy: 0.9677\n",
      "Epoch 46/50\n",
      "13/13 [==============================] - 0s 3ms/step - loss: 0.2952 - accuracy: 0.8871 - val_loss: 0.1080 - val_accuracy: 0.9677\n",
      "Epoch 47/50\n",
      "13/13 [==============================] - 0s 3ms/step - loss: 0.2334 - accuracy: 0.9355 - val_loss: 0.1064 - val_accuracy: 0.9758\n",
      "Epoch 48/50\n",
      "13/13 [==============================] - 0s 2ms/step - loss: 0.1511 - accuracy: 0.9597 - val_loss: 0.1033 - val_accuracy: 0.9758\n",
      "Epoch 49/50\n",
      "13/13 [==============================] - 0s 2ms/step - loss: 0.2320 - accuracy: 0.9194 - val_loss: 0.1016 - val_accuracy: 0.9758\n",
      "Epoch 50/50\n",
      "13/13 [==============================] - 0s 2ms/step - loss: 0.2309 - accuracy: 0.9113 - val_loss: 0.0991 - val_accuracy: 0.9758\n"
     ]
    }
   ],
   "source": [
    "# シードの固定\n",
    "reset_seed(0)\n",
    "\n",
    "# モデルの構築\n",
    "model = tf.keras.models.Sequential([\n",
    "    tf.keras.layers.BatchNormalization(input_shape=(10,)),\n",
    "    tf.keras.layers.Dense(10, activation='relu'),\n",
    "    tf.keras.layers.Dense(3, activation='softmax')\n",
    "])\n",
    "\n",
    "# モデルのコンパイル\n",
    "model.compile(optimizer='sgd',\n",
    "               loss='sparse_categorical_crossentropy',\n",
    "               metrics=['accuracy'])\n",
    "\n",
    "# モデルの学習\n",
    "history = model.fit(x_train, t_train,\n",
    "          batch_size=10,\n",
    "          epochs=50,\n",
    "          validation_data=(x_test, t_test))"
   ]
  },
  {
   "cell_type": "code",
   "execution_count": 37,
   "metadata": {},
   "outputs": [
    {
     "data": {
      "image/png": "[encoded data removed]",
      "text/plain": [
       "<Figure size 432x288 with 1 Axes>"
      ]
     },
     "metadata": {
      "needs_background": "light"
     },
     "output_type": "display_data"
    }
   ],
   "source": [
    "# 正解率と損失を Pandas の形式に変換\n",
    "result_batchnorm = pd.DataFrame(history.history)\n",
    "\n",
    "# 目的関数の値\n",
    "result_batchnorm[['loss', 'val_loss']].plot();"
   ]
  },
  {
   "cell_type": "code",
   "execution_count": 38,
   "metadata": {},
   "outputs": [
    {
     "data": {
      "image/png": "[encoded data removed]",
      "text/plain": [
       "<Figure size 432x288 with 1 Axes>"
      ]
     },
     "metadata": {
      "needs_background": "light"
     },
     "output_type": "display_data"
    }
   ],
   "source": [
    "# 正解率\n",
    "result_batchnorm[['accuracy', 'val_accuracy']].plot();"
   ]
  },
  {
   "cell_type": "markdown",
   "metadata": {},
   "source": [
    "# 学習済みモデルの保存と推論\n",
    "- 高レベル API：model.save & tf.keras.models.load_model\n",
    "- 低レベル API：tf.saved_model.save & tf.saved_model.load\n",
    "\n",
    "学習済みモデルには、save メソッドが付属\n",
    "\n",
    "model.save(filepath, save_format)を指定\n",
    "- filepath : 保存するファイルの場所と名前を指定\n",
    "- save_format : HDF5 か Saved Model のどちらかかを指定\n"
   ]
  },
  {
   "cell_type": "code",
   "execution_count": 39,
   "metadata": {},
   "outputs": [],
   "source": [
    "# モデルの保存\n",
    "model.save(filepath='wine_model.h5', save_format='h5')"
   ]
  },
  {
   "cell_type": "code",
   "execution_count": 40,
   "metadata": {},
   "outputs": [],
   "source": [
    "# モデルの読み込み\n",
    "loaded_model = tf.keras.models.load_model('wine_model.h5')"
   ]
  },
  {
   "cell_type": "code",
   "execution_count": 41,
   "metadata": {},
   "outputs": [
    {
     "data": {
      "text/plain": [
       "(10,)"
      ]
     },
     "execution_count": 41,
     "metadata": {},
     "output_type": "execute_result"
    }
   ],
   "source": [
    "# データの準備\n",
    "sample = x_train[0]\n",
    "sample.shape"
   ]
  },
  {
   "cell_type": "code",
   "execution_count": 42,
   "metadata": {},
   "outputs": [
    {
     "ename": "ValueError",
     "evalue": "in user code:\n\n    /Users/yutaro/miniconda3/lib/python3.7/site-packages/tensorflow/python/keras/engine/training.py:1147 predict_function  *\n        outputs = self.distribute_strategy.run(\n    /Users/yutaro/miniconda3/lib/python3.7/site-packages/tensorflow/python/distribute/distribute_lib.py:951 run  **\n        return self._extended.call_for_each_replica(fn, args=args, kwargs=kwargs)\n    /Users/yutaro/miniconda3/lib/python3.7/site-packages/tensorflow/python/distribute/distribute_lib.py:2290 call_for_each_replica\n        return self._call_for_each_replica(fn, args, kwargs)\n    /Users/yutaro/miniconda3/lib/python3.7/site-packages/tensorflow/python/distribute/distribute_lib.py:2649 _call_for_each_replica\n        return fn(*args, **kwargs)\n    /Users/yutaro/miniconda3/lib/python3.7/site-packages/tensorflow/python/keras/engine/training.py:1122 predict_step  **\n        return self(x, training=False)\n    /Users/yutaro/miniconda3/lib/python3.7/site-packages/tensorflow/python/keras/engine/base_layer.py:886 __call__\n        self.name)\n    /Users/yutaro/miniconda3/lib/python3.7/site-packages/tensorflow/python/keras/engine/input_spec.py:216 assert_input_compatibility\n        ' but received input with shape ' + str(shape))\n\n    ValueError: Input 0 of layer sequential_1 is incompatible with the layer: expected axis 1 of input shape to have value 10 but received input with shape [None, 1]\n",
     "output_type": "error",
     "traceback": [
      "\u001b[0;31m---------------------------------------------------------------------------\u001b[0m",
      "\u001b[0;31mValueError\u001b[0m                                Traceback (most recent call last)",
      "\u001b[0;32m<ipython-input-42-a6b11f891e7b>\u001b[0m in \u001b[0;36m<module>\u001b[0;34m\u001b[0m\n\u001b[1;32m      1\u001b[0m \u001b[0;31m# 予測値の計算\u001b[0m\u001b[0;34m\u001b[0m\u001b[0;34m\u001b[0m\u001b[0;34m\u001b[0m\u001b[0m\n\u001b[0;32m----> 2\u001b[0;31m \u001b[0mloaded_model\u001b[0m\u001b[0;34m.\u001b[0m\u001b[0mpredict\u001b[0m\u001b[0;34m(\u001b[0m\u001b[0msample\u001b[0m\u001b[0;34m)\u001b[0m\u001b[0;34m\u001b[0m\u001b[0;34m\u001b[0m\u001b[0m\n\u001b[0m",
      "\u001b[0;32m~/miniconda3/lib/python3.7/site-packages/tensorflow/python/keras/engine/training.py\u001b[0m in \u001b[0;36m_method_wrapper\u001b[0;34m(self, *args, **kwargs)\u001b[0m\n\u001b[1;32m     86\u001b[0m       raise ValueError('{} is not supported in multi-worker mode.'.format(\n\u001b[1;32m     87\u001b[0m           method.__name__))\n\u001b[0;32m---> 88\u001b[0;31m     \u001b[0;32mreturn\u001b[0m \u001b[0mmethod\u001b[0m\u001b[0;34m(\u001b[0m\u001b[0mself\u001b[0m\u001b[0;34m,\u001b[0m \u001b[0;34m*\u001b[0m\u001b[0margs\u001b[0m\u001b[0;34m,\u001b[0m \u001b[0;34m**\u001b[0m\u001b[0mkwargs\u001b[0m\u001b[0;34m)\u001b[0m\u001b[0;34m\u001b[0m\u001b[0;34m\u001b[0m\u001b[0m\n\u001b[0m\u001b[1;32m     89\u001b[0m \u001b[0;34m\u001b[0m\u001b[0m\n\u001b[1;32m     90\u001b[0m   return tf_decorator.make_decorator(\n",
      "\u001b[0;32m~/miniconda3/lib/python3.7/site-packages/tensorflow/python/keras/engine/training.py\u001b[0m in \u001b[0;36mpredict\u001b[0;34m(self, x, batch_size, verbose, steps, callbacks, max_queue_size, workers, use_multiprocessing)\u001b[0m\n\u001b[1;32m   1266\u001b[0m           \u001b[0;32mfor\u001b[0m \u001b[0mstep\u001b[0m \u001b[0;32min\u001b[0m \u001b[0mdata_handler\u001b[0m\u001b[0;34m.\u001b[0m\u001b[0msteps\u001b[0m\u001b[0;34m(\u001b[0m\u001b[0;34m)\u001b[0m\u001b[0;34m:\u001b[0m\u001b[0;34m\u001b[0m\u001b[0;34m\u001b[0m\u001b[0m\n\u001b[1;32m   1267\u001b[0m             \u001b[0mcallbacks\u001b[0m\u001b[0;34m.\u001b[0m\u001b[0mon_predict_batch_begin\u001b[0m\u001b[0;34m(\u001b[0m\u001b[0mstep\u001b[0m\u001b[0;34m)\u001b[0m\u001b[0;34m\u001b[0m\u001b[0;34m\u001b[0m\u001b[0m\n\u001b[0;32m-> 1268\u001b[0;31m             \u001b[0mtmp_batch_outputs\u001b[0m \u001b[0;34m=\u001b[0m \u001b[0mpredict_function\u001b[0m\u001b[0;34m(\u001b[0m\u001b[0miterator\u001b[0m\u001b[0;34m)\u001b[0m\u001b[0;34m\u001b[0m\u001b[0;34m\u001b[0m\u001b[0m\n\u001b[0m\u001b[1;32m   1269\u001b[0m             \u001b[0;31m# Catch OutOfRangeError for Datasets of unknown size.\u001b[0m\u001b[0;34m\u001b[0m\u001b[0;34m\u001b[0m\u001b[0;34m\u001b[0m\u001b[0m\n\u001b[1;32m   1270\u001b[0m             \u001b[0;31m# This blocks until the batch has finished executing.\u001b[0m\u001b[0;34m\u001b[0m\u001b[0;34m\u001b[0m\u001b[0;34m\u001b[0m\u001b[0m\n",
      "\u001b[0;32m~/miniconda3/lib/python3.7/site-packages/tensorflow/python/eager/def_function.py\u001b[0m in \u001b[0;36m__call__\u001b[0;34m(self, *args, **kwds)\u001b[0m\n\u001b[1;32m    578\u001b[0m         \u001b[0mxla_context\u001b[0m\u001b[0;34m.\u001b[0m\u001b[0mExit\u001b[0m\u001b[0;34m(\u001b[0m\u001b[0;34m)\u001b[0m\u001b[0;34m\u001b[0m\u001b[0;34m\u001b[0m\u001b[0m\n\u001b[1;32m    579\u001b[0m     \u001b[0;32melse\u001b[0m\u001b[0;34m:\u001b[0m\u001b[0;34m\u001b[0m\u001b[0;34m\u001b[0m\u001b[0m\n\u001b[0;32m--> 580\u001b[0;31m       \u001b[0mresult\u001b[0m \u001b[0;34m=\u001b[0m \u001b[0mself\u001b[0m\u001b[0;34m.\u001b[0m\u001b[0m_call\u001b[0m\u001b[0;34m(\u001b[0m\u001b[0;34m*\u001b[0m\u001b[0margs\u001b[0m\u001b[0;34m,\u001b[0m \u001b[0;34m**\u001b[0m\u001b[0mkwds\u001b[0m\u001b[0;34m)\u001b[0m\u001b[0;34m\u001b[0m\u001b[0;34m\u001b[0m\u001b[0m\n\u001b[0m\u001b[1;32m    581\u001b[0m \u001b[0;34m\u001b[0m\u001b[0m\n\u001b[1;32m    582\u001b[0m     \u001b[0;32mif\u001b[0m \u001b[0mtracing_count\u001b[0m \u001b[0;34m==\u001b[0m \u001b[0mself\u001b[0m\u001b[0;34m.\u001b[0m\u001b[0m_get_tracing_count\u001b[0m\u001b[0;34m(\u001b[0m\u001b[0;34m)\u001b[0m\u001b[0;34m:\u001b[0m\u001b[0;34m\u001b[0m\u001b[0;34m\u001b[0m\u001b[0m\n",
      "\u001b[0;32m~/miniconda3/lib/python3.7/site-packages/tensorflow/python/eager/def_function.py\u001b[0m in \u001b[0;36m_call\u001b[0;34m(self, *args, **kwds)\u001b[0m\n\u001b[1;32m    625\u001b[0m       \u001b[0;31m# This is the first call of __call__, so we have to initialize.\u001b[0m\u001b[0;34m\u001b[0m\u001b[0;34m\u001b[0m\u001b[0;34m\u001b[0m\u001b[0m\n\u001b[1;32m    626\u001b[0m       \u001b[0minitializers\u001b[0m \u001b[0;34m=\u001b[0m \u001b[0;34m[\u001b[0m\u001b[0;34m]\u001b[0m\u001b[0;34m\u001b[0m\u001b[0;34m\u001b[0m\u001b[0m\n\u001b[0;32m--> 627\u001b[0;31m       \u001b[0mself\u001b[0m\u001b[0;34m.\u001b[0m\u001b[0m_initialize\u001b[0m\u001b[0;34m(\u001b[0m\u001b[0margs\u001b[0m\u001b[0;34m,\u001b[0m \u001b[0mkwds\u001b[0m\u001b[0;34m,\u001b[0m \u001b[0madd_initializers_to\u001b[0m\u001b[0;34m=\u001b[0m\u001b[0minitializers\u001b[0m\u001b[0;34m)\u001b[0m\u001b[0;34m\u001b[0m\u001b[0;34m\u001b[0m\u001b[0m\n\u001b[0m\u001b[1;32m    628\u001b[0m     \u001b[0;32mfinally\u001b[0m\u001b[0;34m:\u001b[0m\u001b[0;34m\u001b[0m\u001b[0;34m\u001b[0m\u001b[0m\n\u001b[1;32m    629\u001b[0m       \u001b[0;31m# At this point we know that the initialization is complete (or less\u001b[0m\u001b[0;34m\u001b[0m\u001b[0;34m\u001b[0m\u001b[0;34m\u001b[0m\u001b[0m\n",
      "\u001b[0;32m~/miniconda3/lib/python3.7/site-packages/tensorflow/python/eager/def_function.py\u001b[0m in \u001b[0;36m_initialize\u001b[0;34m(self, args, kwds, add_initializers_to)\u001b[0m\n\u001b[1;32m    504\u001b[0m     self._concrete_stateful_fn = (\n\u001b[1;32m    505\u001b[0m         self._stateful_fn._get_concrete_function_internal_garbage_collected(  # pylint: disable=protected-access\n\u001b[0;32m--> 506\u001b[0;31m             *args, **kwds))\n\u001b[0m\u001b[1;32m    507\u001b[0m \u001b[0;34m\u001b[0m\u001b[0m\n\u001b[1;32m    508\u001b[0m     \u001b[0;32mdef\u001b[0m \u001b[0minvalid_creator_scope\u001b[0m\u001b[0;34m(\u001b[0m\u001b[0;34m*\u001b[0m\u001b[0munused_args\u001b[0m\u001b[0;34m,\u001b[0m \u001b[0;34m**\u001b[0m\u001b[0munused_kwds\u001b[0m\u001b[0;34m)\u001b[0m\u001b[0;34m:\u001b[0m\u001b[0;34m\u001b[0m\u001b[0;34m\u001b[0m\u001b[0m\n",
      "\u001b[0;32m~/miniconda3/lib/python3.7/site-packages/tensorflow/python/eager/function.py\u001b[0m in \u001b[0;36m_get_concrete_function_internal_garbage_collected\u001b[0;34m(self, *args, **kwargs)\u001b[0m\n\u001b[1;32m   2444\u001b[0m       \u001b[0margs\u001b[0m\u001b[0;34m,\u001b[0m \u001b[0mkwargs\u001b[0m \u001b[0;34m=\u001b[0m \u001b[0;32mNone\u001b[0m\u001b[0;34m,\u001b[0m \u001b[0;32mNone\u001b[0m\u001b[0;34m\u001b[0m\u001b[0;34m\u001b[0m\u001b[0m\n\u001b[1;32m   2445\u001b[0m     \u001b[0;32mwith\u001b[0m \u001b[0mself\u001b[0m\u001b[0;34m.\u001b[0m\u001b[0m_lock\u001b[0m\u001b[0;34m:\u001b[0m\u001b[0;34m\u001b[0m\u001b[0;34m\u001b[0m\u001b[0m\n\u001b[0;32m-> 2446\u001b[0;31m       \u001b[0mgraph_function\u001b[0m\u001b[0;34m,\u001b[0m \u001b[0m_\u001b[0m\u001b[0;34m,\u001b[0m \u001b[0m_\u001b[0m \u001b[0;34m=\u001b[0m \u001b[0mself\u001b[0m\u001b[0;34m.\u001b[0m\u001b[0m_maybe_define_function\u001b[0m\u001b[0;34m(\u001b[0m\u001b[0margs\u001b[0m\u001b[0;34m,\u001b[0m \u001b[0mkwargs\u001b[0m\u001b[0;34m)\u001b[0m\u001b[0;34m\u001b[0m\u001b[0;34m\u001b[0m\u001b[0m\n\u001b[0m\u001b[1;32m   2447\u001b[0m     \u001b[0;32mreturn\u001b[0m \u001b[0mgraph_function\u001b[0m\u001b[0;34m\u001b[0m\u001b[0;34m\u001b[0m\u001b[0m\n\u001b[1;32m   2448\u001b[0m \u001b[0;34m\u001b[0m\u001b[0m\n",
      "\u001b[0;32m~/miniconda3/lib/python3.7/site-packages/tensorflow/python/eager/function.py\u001b[0m in \u001b[0;36m_maybe_define_function\u001b[0;34m(self, args, kwargs)\u001b[0m\n\u001b[1;32m   2775\u001b[0m \u001b[0;34m\u001b[0m\u001b[0m\n\u001b[1;32m   2776\u001b[0m       \u001b[0mself\u001b[0m\u001b[0;34m.\u001b[0m\u001b[0m_function_cache\u001b[0m\u001b[0;34m.\u001b[0m\u001b[0mmissed\u001b[0m\u001b[0;34m.\u001b[0m\u001b[0madd\u001b[0m\u001b[0;34m(\u001b[0m\u001b[0mcall_context_key\u001b[0m\u001b[0;34m)\u001b[0m\u001b[0;34m\u001b[0m\u001b[0;34m\u001b[0m\u001b[0m\n\u001b[0;32m-> 2777\u001b[0;31m       \u001b[0mgraph_function\u001b[0m \u001b[0;34m=\u001b[0m \u001b[0mself\u001b[0m\u001b[0;34m.\u001b[0m\u001b[0m_create_graph_function\u001b[0m\u001b[0;34m(\u001b[0m\u001b[0margs\u001b[0m\u001b[0;34m,\u001b[0m \u001b[0mkwargs\u001b[0m\u001b[0;34m)\u001b[0m\u001b[0;34m\u001b[0m\u001b[0;34m\u001b[0m\u001b[0m\n\u001b[0m\u001b[1;32m   2778\u001b[0m       \u001b[0mself\u001b[0m\u001b[0;34m.\u001b[0m\u001b[0m_function_cache\u001b[0m\u001b[0;34m.\u001b[0m\u001b[0mprimary\u001b[0m\u001b[0;34m[\u001b[0m\u001b[0mcache_key\u001b[0m\u001b[0;34m]\u001b[0m \u001b[0;34m=\u001b[0m \u001b[0mgraph_function\u001b[0m\u001b[0;34m\u001b[0m\u001b[0;34m\u001b[0m\u001b[0m\n\u001b[1;32m   2779\u001b[0m       \u001b[0;32mreturn\u001b[0m \u001b[0mgraph_function\u001b[0m\u001b[0;34m,\u001b[0m \u001b[0margs\u001b[0m\u001b[0;34m,\u001b[0m \u001b[0mkwargs\u001b[0m\u001b[0;34m\u001b[0m\u001b[0;34m\u001b[0m\u001b[0m\n",
      "\u001b[0;32m~/miniconda3/lib/python3.7/site-packages/tensorflow/python/eager/function.py\u001b[0m in \u001b[0;36m_create_graph_function\u001b[0;34m(self, args, kwargs, override_flat_arg_shapes)\u001b[0m\n\u001b[1;32m   2665\u001b[0m             \u001b[0marg_names\u001b[0m\u001b[0;34m=\u001b[0m\u001b[0marg_names\u001b[0m\u001b[0;34m,\u001b[0m\u001b[0;34m\u001b[0m\u001b[0;34m\u001b[0m\u001b[0m\n\u001b[1;32m   2666\u001b[0m             \u001b[0moverride_flat_arg_shapes\u001b[0m\u001b[0;34m=\u001b[0m\u001b[0moverride_flat_arg_shapes\u001b[0m\u001b[0;34m,\u001b[0m\u001b[0;34m\u001b[0m\u001b[0;34m\u001b[0m\u001b[0m\n\u001b[0;32m-> 2667\u001b[0;31m             capture_by_value=self._capture_by_value),\n\u001b[0m\u001b[1;32m   2668\u001b[0m         \u001b[0mself\u001b[0m\u001b[0;34m.\u001b[0m\u001b[0m_function_attributes\u001b[0m\u001b[0;34m,\u001b[0m\u001b[0;34m\u001b[0m\u001b[0;34m\u001b[0m\u001b[0m\n\u001b[1;32m   2669\u001b[0m         \u001b[0;31m# Tell the ConcreteFunction to clean up its graph once it goes out of\u001b[0m\u001b[0;34m\u001b[0m\u001b[0;34m\u001b[0m\u001b[0;34m\u001b[0m\u001b[0m\n",
      "\u001b[0;32m~/miniconda3/lib/python3.7/site-packages/tensorflow/python/framework/func_graph.py\u001b[0m in \u001b[0;36mfunc_graph_from_py_func\u001b[0;34m(name, python_func, args, kwargs, signature, func_graph, autograph, autograph_options, add_control_dependencies, arg_names, op_return_value, collections, capture_by_value, override_flat_arg_shapes)\u001b[0m\n\u001b[1;32m    979\u001b[0m         \u001b[0m_\u001b[0m\u001b[0;34m,\u001b[0m \u001b[0moriginal_func\u001b[0m \u001b[0;34m=\u001b[0m \u001b[0mtf_decorator\u001b[0m\u001b[0;34m.\u001b[0m\u001b[0munwrap\u001b[0m\u001b[0;34m(\u001b[0m\u001b[0mpython_func\u001b[0m\u001b[0;34m)\u001b[0m\u001b[0;34m\u001b[0m\u001b[0;34m\u001b[0m\u001b[0m\n\u001b[1;32m    980\u001b[0m \u001b[0;34m\u001b[0m\u001b[0m\n\u001b[0;32m--> 981\u001b[0;31m       \u001b[0mfunc_outputs\u001b[0m \u001b[0;34m=\u001b[0m \u001b[0mpython_func\u001b[0m\u001b[0;34m(\u001b[0m\u001b[0;34m*\u001b[0m\u001b[0mfunc_args\u001b[0m\u001b[0;34m,\u001b[0m \u001b[0;34m**\u001b[0m\u001b[0mfunc_kwargs\u001b[0m\u001b[0;34m)\u001b[0m\u001b[0;34m\u001b[0m\u001b[0;34m\u001b[0m\u001b[0m\n\u001b[0m\u001b[1;32m    982\u001b[0m \u001b[0;34m\u001b[0m\u001b[0m\n\u001b[1;32m    983\u001b[0m       \u001b[0;31m# invariant: `func_outputs` contains only Tensors, CompositeTensors,\u001b[0m\u001b[0;34m\u001b[0m\u001b[0;34m\u001b[0m\u001b[0;34m\u001b[0m\u001b[0m\n",
      "\u001b[0;32m~/miniconda3/lib/python3.7/site-packages/tensorflow/python/eager/def_function.py\u001b[0m in \u001b[0;36mwrapped_fn\u001b[0;34m(*args, **kwds)\u001b[0m\n\u001b[1;32m    439\u001b[0m         \u001b[0;31m# __wrapped__ allows AutoGraph to swap in a converted function. We give\u001b[0m\u001b[0;34m\u001b[0m\u001b[0;34m\u001b[0m\u001b[0;34m\u001b[0m\u001b[0m\n\u001b[1;32m    440\u001b[0m         \u001b[0;31m# the function a weak reference to itself to avoid a reference cycle.\u001b[0m\u001b[0;34m\u001b[0m\u001b[0;34m\u001b[0m\u001b[0;34m\u001b[0m\u001b[0m\n\u001b[0;32m--> 441\u001b[0;31m         \u001b[0;32mreturn\u001b[0m \u001b[0mweak_wrapped_fn\u001b[0m\u001b[0;34m(\u001b[0m\u001b[0;34m)\u001b[0m\u001b[0;34m.\u001b[0m\u001b[0m__wrapped__\u001b[0m\u001b[0;34m(\u001b[0m\u001b[0;34m*\u001b[0m\u001b[0margs\u001b[0m\u001b[0;34m,\u001b[0m \u001b[0;34m**\u001b[0m\u001b[0mkwds\u001b[0m\u001b[0;34m)\u001b[0m\u001b[0;34m\u001b[0m\u001b[0;34m\u001b[0m\u001b[0m\n\u001b[0m\u001b[1;32m    442\u001b[0m     \u001b[0mweak_wrapped_fn\u001b[0m \u001b[0;34m=\u001b[0m \u001b[0mweakref\u001b[0m\u001b[0;34m.\u001b[0m\u001b[0mref\u001b[0m\u001b[0;34m(\u001b[0m\u001b[0mwrapped_fn\u001b[0m\u001b[0;34m)\u001b[0m\u001b[0;34m\u001b[0m\u001b[0;34m\u001b[0m\u001b[0m\n\u001b[1;32m    443\u001b[0m \u001b[0;34m\u001b[0m\u001b[0m\n",
      "\u001b[0;32m~/miniconda3/lib/python3.7/site-packages/tensorflow/python/framework/func_graph.py\u001b[0m in \u001b[0;36mwrapper\u001b[0;34m(*args, **kwargs)\u001b[0m\n\u001b[1;32m    966\u001b[0m           \u001b[0;32mexcept\u001b[0m \u001b[0mException\u001b[0m \u001b[0;32mas\u001b[0m \u001b[0me\u001b[0m\u001b[0;34m:\u001b[0m  \u001b[0;31m# pylint:disable=broad-except\u001b[0m\u001b[0;34m\u001b[0m\u001b[0;34m\u001b[0m\u001b[0m\n\u001b[1;32m    967\u001b[0m             \u001b[0;32mif\u001b[0m \u001b[0mhasattr\u001b[0m\u001b[0;34m(\u001b[0m\u001b[0me\u001b[0m\u001b[0;34m,\u001b[0m \u001b[0;34m\"ag_error_metadata\"\u001b[0m\u001b[0;34m)\u001b[0m\u001b[0;34m:\u001b[0m\u001b[0;34m\u001b[0m\u001b[0;34m\u001b[0m\u001b[0m\n\u001b[0;32m--> 968\u001b[0;31m               \u001b[0;32mraise\u001b[0m \u001b[0me\u001b[0m\u001b[0;34m.\u001b[0m\u001b[0mag_error_metadata\u001b[0m\u001b[0;34m.\u001b[0m\u001b[0mto_exception\u001b[0m\u001b[0;34m(\u001b[0m\u001b[0me\u001b[0m\u001b[0;34m)\u001b[0m\u001b[0;34m\u001b[0m\u001b[0;34m\u001b[0m\u001b[0m\n\u001b[0m\u001b[1;32m    969\u001b[0m             \u001b[0;32melse\u001b[0m\u001b[0;34m:\u001b[0m\u001b[0;34m\u001b[0m\u001b[0;34m\u001b[0m\u001b[0m\n\u001b[1;32m    970\u001b[0m               \u001b[0;32mraise\u001b[0m\u001b[0;34m\u001b[0m\u001b[0;34m\u001b[0m\u001b[0m\n",
      "\u001b[0;31mValueError\u001b[0m: in user code:\n\n    /Users/yutaro/miniconda3/lib/python3.7/site-packages/tensorflow/python/keras/engine/training.py:1147 predict_function  *\n        outputs = self.distribute_strategy.run(\n    /Users/yutaro/miniconda3/lib/python3.7/site-packages/tensorflow/python/distribute/distribute_lib.py:951 run  **\n        return self._extended.call_for_each_replica(fn, args=args, kwargs=kwargs)\n    /Users/yutaro/miniconda3/lib/python3.7/site-packages/tensorflow/python/distribute/distribute_lib.py:2290 call_for_each_replica\n        return self._call_for_each_replica(fn, args, kwargs)\n    /Users/yutaro/miniconda3/lib/python3.7/site-packages/tensorflow/python/distribute/distribute_lib.py:2649 _call_for_each_replica\n        return fn(*args, **kwargs)\n    /Users/yutaro/miniconda3/lib/python3.7/site-packages/tensorflow/python/keras/engine/training.py:1122 predict_step  **\n        return self(x, training=False)\n    /Users/yutaro/miniconda3/lib/python3.7/site-packages/tensorflow/python/keras/engine/base_layer.py:886 __call__\n        self.name)\n    /Users/yutaro/miniconda3/lib/python3.7/site-packages/tensorflow/python/keras/engine/input_spec.py:216 assert_input_compatibility\n        ' but received input with shape ' + str(shape))\n\n    ValueError: Input 0 of layer sequential_1 is incompatible with the layer: expected axis 1 of input shape to have value 10 but received input with shape [None, 1]\n"
     ]
    }
   ],
   "source": [
    "# 予測値の計算\n",
    "loaded_model.predict(sample)"
   ]
  },
  {
   "cell_type": "markdown",
   "metadata": {},
   "source": [
    "推論で使用する際には、(バッチサイズ, 入力変数の数) という形式となっていないと上記のようなエラーが起きる"
   ]
  },
  {
   "cell_type": "code",
   "execution_count": 43,
   "metadata": {},
   "outputs": [
    {
     "data": {
      "text/plain": [
       "(1, 10)"
      ]
     },
     "execution_count": 43,
     "metadata": {},
     "output_type": "execute_result"
    }
   ],
   "source": [
    "# 形を変換\n",
    "sample = sample.reshape(1, 10)\n",
    "sample.shape"
   ]
  },
  {
   "cell_type": "code",
   "execution_count": 44,
   "metadata": {},
   "outputs": [
    {
     "data": {
      "text/plain": [
       "array([[0.9737636 , 0.00732896, 0.01890746]], dtype=float32)"
      ]
     },
     "execution_count": 44,
     "metadata": {},
     "output_type": "execute_result"
    }
   ],
   "source": [
    "# 予測値の計算\n",
    "y = loaded_model.predict(sample)\n",
    "y"
   ]
  },
  {
   "cell_type": "code",
   "execution_count": 45,
   "metadata": {},
   "outputs": [
    {
     "data": {
      "text/plain": [
       "0"
      ]
     },
     "execution_count": 45,
     "metadata": {},
     "output_type": "execute_result"
    }
   ],
   "source": [
    "# 最も値の大きなラベルを取得\n",
    "np.argmax(y)"
   ]
  },
  {
   "cell_type": "code",
   "execution_count": 46,
   "metadata": {},
   "outputs": [
    {
     "data": {
      "text/plain": [
       "0"
      ]
     },
     "execution_count": 46,
     "metadata": {},
     "output_type": "execute_result"
    }
   ],
   "source": [
    "# 正解ラベル\n",
    "t_train[0]"
   ]
  },
  {
   "cell_type": "code",
   "execution_count": null,
   "metadata": {},
   "outputs": [],
   "source": []
  }
 ],
 "metadata": {
  "kernelspec": {
   "display_name": "Python 3",
   "language": "python",
   "name": "python3"
  },
  "language_info": {
   "codemirror_mode": {
    "name": "ipython",
    "version": 3
   },
   "file_extension": ".py",
   "mimetype": "text/x-python",
   "name": "python",
   "nbconvert_exporter": "python",
   "pygments_lexer": "ipython3",
   "version": "3.7.6"
  }
 },
 "nbformat": 4,
 "nbformat_minor": 4
}
