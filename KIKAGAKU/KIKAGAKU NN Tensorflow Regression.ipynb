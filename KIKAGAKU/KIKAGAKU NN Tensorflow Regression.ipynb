{
 "cells": [
  {
   "cell_type": "code",
   "execution_count": 1,
   "metadata": {},
   "outputs": [],
   "source": [
    "import numpy as np\n",
    "import pandas as pd\n",
    "import matplotlib.pyplot as plt\n",
    "import tensorflow as tf"
   ]
  },
  {
   "cell_type": "code",
   "execution_count": 2,
   "metadata": {},
   "outputs": [],
   "source": [
    "# データセットの準備\n",
    "dataset = tf.keras.datasets.boston_housing\n",
    "train, test = dataset.load_data()"
   ]
  },
  {
   "cell_type": "code",
   "execution_count": 3,
   "metadata": {},
   "outputs": [
    {
     "data": {
      "text/plain": [
       "(array([[1.23247e+00, 0.00000e+00, 8.14000e+00, ..., 2.10000e+01,\n",
       "         3.96900e+02, 1.87200e+01],\n",
       "        [2.17700e-02, 8.25000e+01, 2.03000e+00, ..., 1.47000e+01,\n",
       "         3.95380e+02, 3.11000e+00],\n",
       "        [4.89822e+00, 0.00000e+00, 1.81000e+01, ..., 2.02000e+01,\n",
       "         3.75520e+02, 3.26000e+00],\n",
       "        ...,\n",
       "        [3.46600e-02, 3.50000e+01, 6.06000e+00, ..., 1.69000e+01,\n",
       "         3.62250e+02, 7.83000e+00],\n",
       "        [2.14918e+00, 0.00000e+00, 1.95800e+01, ..., 1.47000e+01,\n",
       "         2.61950e+02, 1.57900e+01],\n",
       "        [1.43900e-02, 6.00000e+01, 2.93000e+00, ..., 1.56000e+01,\n",
       "         3.76700e+02, 4.38000e+00]]),\n",
       " array([15.2, 42.3, 50. , 21.1, 17.7, 18.5, 11.3, 15.6, 15.6, 14.4, 12.1,\n",
       "        17.9, 23.1, 19.9, 15.7,  8.8, 50. , 22.5, 24.1, 27.5, 10.9, 30.8,\n",
       "        32.9, 24. , 18.5, 13.3, 22.9, 34.7, 16.6, 17.5, 22.3, 16.1, 14.9,\n",
       "        23.1, 34.9, 25. , 13.9, 13.1, 20.4, 20. , 15.2, 24.7, 22.2, 16.7,\n",
       "        12.7, 15.6, 18.4, 21. , 30.1, 15.1, 18.7,  9.6, 31.5, 24.8, 19.1,\n",
       "        22. , 14.5, 11. , 32. , 29.4, 20.3, 24.4, 14.6, 19.5, 14.1, 14.3,\n",
       "        15.6, 10.5,  6.3, 19.3, 19.3, 13.4, 36.4, 17.8, 13.5, 16.5,  8.3,\n",
       "        14.3, 16. , 13.4, 28.6, 43.5, 20.2, 22. , 23. , 20.7, 12.5, 48.5,\n",
       "        14.6, 13.4, 23.7, 50. , 21.7, 39.8, 38.7, 22.2, 34.9, 22.5, 31.1,\n",
       "        28.7, 46. , 41.7, 21. , 26.6, 15. , 24.4, 13.3, 21.2, 11.7, 21.7,\n",
       "        19.4, 50. , 22.8, 19.7, 24.7, 36.2, 14.2, 18.9, 18.3, 20.6, 24.6,\n",
       "        18.2,  8.7, 44. , 10.4, 13.2, 21.2, 37. , 30.7, 22.9, 20. , 19.3,\n",
       "        31.7, 32. , 23.1, 18.8, 10.9, 50. , 19.6,  5. , 14.4, 19.8, 13.8,\n",
       "        19.6, 23.9, 24.5, 25. , 19.9, 17.2, 24.6, 13.5, 26.6, 21.4, 11.9,\n",
       "        22.6, 19.6,  8.5, 23.7, 23.1, 22.4, 20.5, 23.6, 18.4, 35.2, 23.1,\n",
       "        27.9, 20.6, 23.7, 28. , 13.6, 27.1, 23.6, 20.6, 18.2, 21.7, 17.1,\n",
       "         8.4, 25.3, 13.8, 22.2, 18.4, 20.7, 31.6, 30.5, 20.3,  8.8, 19.2,\n",
       "        19.4, 23.1, 23. , 14.8, 48.8, 22.6, 33.4, 21.1, 13.6, 32.2, 13.1,\n",
       "        23.4, 18.9, 23.9, 11.8, 23.3, 22.8, 19.6, 16.7, 13.4, 22.2, 20.4,\n",
       "        21.8, 26.4, 14.9, 24.1, 23.8, 12.3, 29.1, 21. , 19.5, 23.3, 23.8,\n",
       "        17.8, 11.5, 21.7, 19.9, 25. , 33.4, 28.5, 21.4, 24.3, 27.5, 33.1,\n",
       "        16.2, 23.3, 48.3, 22.9, 22.8, 13.1, 12.7, 22.6, 15. , 15.3, 10.5,\n",
       "        24. , 18.5, 21.7, 19.5, 33.2, 23.2,  5. , 19.1, 12.7, 22.3, 10.2,\n",
       "        13.9, 16.3, 17. , 20.1, 29.9, 17.2, 37.3, 45.4, 17.8, 23.2, 29. ,\n",
       "        22. , 18. , 17.4, 34.6, 20.1, 25. , 15.6, 24.8, 28.2, 21.2, 21.4,\n",
       "        23.8, 31. , 26.2, 17.4, 37.9, 17.5, 20. ,  8.3, 23.9,  8.4, 13.8,\n",
       "         7.2, 11.7, 17.1, 21.6, 50. , 16.1, 20.4, 20.6, 21.4, 20.6, 36.5,\n",
       "         8.5, 24.8, 10.8, 21.9, 17.3, 18.9, 36.2, 14.9, 18.2, 33.3, 21.8,\n",
       "        19.7, 31.6, 24.8, 19.4, 22.8,  7.5, 44.8, 16.8, 18.7, 50. , 50. ,\n",
       "        19.5, 20.1, 50. , 17.2, 20.8, 19.3, 41.3, 20.4, 20.5, 13.8, 16.5,\n",
       "        23.9, 20.6, 31.5, 23.3, 16.8, 14. , 33.8, 36.1, 12.8, 18.3, 18.7,\n",
       "        19.1, 29. , 30.1, 50. , 50. , 22. , 11.9, 37.6, 50. , 22.7, 20.8,\n",
       "        23.5, 27.9, 50. , 19.3, 23.9, 22.6, 15.2, 21.7, 19.2, 43.8, 20.3,\n",
       "        33.2, 19.9, 22.5, 32.7, 22. , 17.1, 19. , 15. , 16.1, 25.1, 23.7,\n",
       "        28.7, 37.2, 22.6, 16.4, 25. , 29.8, 22.1, 17.4, 18.1, 30.3, 17.5,\n",
       "        24.7, 12.6, 26.5, 28.7, 13.3, 10.4, 24.4, 23. , 20. , 17.8,  7. ,\n",
       "        11.8, 24.4, 13.8, 19.4, 25.2, 19.4, 19.4, 29.1]))"
      ]
     },
     "execution_count": 3,
     "metadata": {},
     "output_type": "execute_result"
    }
   ],
   "source": [
    "# 学習用データセット\n",
    "train"
   ]
  },
  {
   "cell_type": "code",
   "execution_count": 4,
   "metadata": {},
   "outputs": [
    {
     "data": {
      "text/plain": [
       "(array([[1.80846e+01, 0.00000e+00, 1.81000e+01, ..., 2.02000e+01,\n",
       "         2.72500e+01, 2.90500e+01],\n",
       "        [1.23290e-01, 0.00000e+00, 1.00100e+01, ..., 1.78000e+01,\n",
       "         3.94950e+02, 1.62100e+01],\n",
       "        [5.49700e-02, 0.00000e+00, 5.19000e+00, ..., 2.02000e+01,\n",
       "         3.96900e+02, 9.74000e+00],\n",
       "        ...,\n",
       "        [1.83377e+00, 0.00000e+00, 1.95800e+01, ..., 1.47000e+01,\n",
       "         3.89610e+02, 1.92000e+00],\n",
       "        [3.58090e-01, 0.00000e+00, 6.20000e+00, ..., 1.74000e+01,\n",
       "         3.91700e+02, 9.71000e+00],\n",
       "        [2.92400e+00, 0.00000e+00, 1.95800e+01, ..., 1.47000e+01,\n",
       "         2.40160e+02, 9.81000e+00]]),\n",
       " array([ 7.2, 18.8, 19. , 27. , 22.2, 24.5, 31.2, 22.9, 20.5, 23.2, 18.6,\n",
       "        14.5, 17.8, 50. , 20.8, 24.3, 24.2, 19.8, 19.1, 22.7, 12. , 10.2,\n",
       "        20. , 18.5, 20.9, 23. , 27.5, 30.1,  9.5, 22. , 21.2, 14.1, 33.1,\n",
       "        23.4, 20.1,  7.4, 15.4, 23.8, 20.1, 24.5, 33. , 28.4, 14.1, 46.7,\n",
       "        32.5, 29.6, 28.4, 19.8, 20.2, 25. , 35.4, 20.3,  9.7, 14.5, 34.9,\n",
       "        26.6,  7.2, 50. , 32.4, 21.6, 29.8, 13.1, 27.5, 21.2, 23.1, 21.9,\n",
       "        13. , 23.2,  8.1,  5.6, 21.7, 29.6, 19.6,  7. , 26.4, 18.9, 20.9,\n",
       "        28.1, 35.4, 10.2, 24.3, 43.1, 17.6, 15.4, 16.2, 27.1, 21.4, 21.5,\n",
       "        22.4, 25. , 16.6, 18.6, 22. , 42.8, 35.1, 21.5, 36. , 21.9, 24.1,\n",
       "        50. , 26.7, 25. ]))"
      ]
     },
     "execution_count": 4,
     "metadata": {},
     "output_type": "execute_result"
    }
   ],
   "source": [
    "# テスト用データセット\n",
    "test"
   ]
  },
  {
   "cell_type": "code",
   "execution_count": 5,
   "metadata": {},
   "outputs": [
    {
     "data": {
      "text/plain": [
       "((404, 13), (102, 13))"
      ]
     },
     "execution_count": 5,
     "metadata": {},
     "output_type": "execute_result"
    }
   ],
   "source": [
    "# サンプル数\n",
    "train[0].shape, test[0].shape"
   ]
  },
  {
   "cell_type": "code",
   "execution_count": 6,
   "metadata": {},
   "outputs": [],
   "source": [
    "# 学習用データセット\n",
    "x_train = np.array(train[0], np.float32)\n",
    "t_train = np.array(train[1], np.int32)\n",
    "\n",
    "# テスト用データセット\n",
    "x_test = np.array(test[0], np.float32)\n",
    "t_test = np.array(test[1], np.uint32)"
   ]
  },
  {
   "cell_type": "code",
   "execution_count": 7,
   "metadata": {},
   "outputs": [
    {
     "data": {
      "text/plain": [
       "(dtype('float32'), (404, 13))"
      ]
     },
     "execution_count": 7,
     "metadata": {},
     "output_type": "execute_result"
    }
   ],
   "source": [
    "x_train.dtype, x_train.shape"
   ]
  },
  {
   "cell_type": "code",
   "execution_count": 8,
   "metadata": {},
   "outputs": [
    {
     "data": {
      "text/plain": [
       "(dtype('float32'), (102, 13))"
      ]
     },
     "execution_count": 8,
     "metadata": {},
     "output_type": "execute_result"
    }
   ],
   "source": [
    "x_test.dtype, x_test.shape"
   ]
  },
  {
   "cell_type": "code",
   "execution_count": 9,
   "metadata": {},
   "outputs": [],
   "source": [
    "import os, random\n",
    "\n",
    "def reset_seed(seed=0):\n",
    "    os.environ['PYTHONHASHSEED'] = '0'\n",
    "    random.seed(seed)\n",
    "    np.random.seed(seed)\n",
    "    tf.random.set_seed(seed)"
   ]
  },
  {
   "cell_type": "code",
   "execution_count": 10,
   "metadata": {},
   "outputs": [],
   "source": [
    "# シードの固定\n",
    "reset_seed(0)\n",
    "\n",
    "# モデルの定義\n",
    "model = tf.keras.models.Sequential([\n",
    "    tf.keras.layers.Dense(32, activation='relu', input_shape=(13, )),\n",
    "    tf.keras.layers.Dense(1),\n",
    "])\n",
    "\n",
    "# モデルのコンパイル\n",
    "model.compile(optimizer='adam', \n",
    "              loss='mse',\n",
    "              metrics=['mae'])"
   ]
  },
  {
   "cell_type": "code",
   "execution_count": 11,
   "metadata": {},
   "outputs": [
    {
     "name": "stdout",
     "output_type": "stream",
     "text": [
      "Model: \"sequential\"\n",
      "_________________________________________________________________\n",
      "Layer (type)                 Output Shape              Param #   \n",
      "=================================================================\n",
      "dense (Dense)                (None, 32)                448       \n",
      "_________________________________________________________________\n",
      "dense_1 (Dense)              (None, 1)                 33        \n",
      "=================================================================\n",
      "Total params: 481\n",
      "Trainable params: 481\n",
      "Non-trainable params: 0\n",
      "_________________________________________________________________\n"
     ]
    }
   ],
   "source": [
    "# モデル構造の確認\n",
    "model.summary()"
   ]
  },
  {
   "cell_type": "code",
   "execution_count": 12,
   "metadata": {},
   "outputs": [
    {
     "data": {
      "image/png": "[encoded data removed]",
      "text/plain": [
       "<IPython.core.display.Image object>"
      ]
     },
     "execution_count": 12,
     "metadata": {},
     "output_type": "execute_result"
    }
   ],
   "source": [
    "# モデル構造の可視化\n",
    "tf.keras.utils.plot_model(model)"
   ]
  },
  {
   "cell_type": "code",
   "execution_count": 13,
   "metadata": {},
   "outputs": [
    {
     "name": "stdout",
     "output_type": "stream",
     "text": [
      "Epoch 1/30\n",
      "13/13 [==============================] - 0s 10ms/step - loss: 21222.6855 - mae: 138.6180 - val_loss: 13315.3262 - val_mae: 108.2218\n",
      "Epoch 2/30\n",
      "13/13 [==============================] - 0s 2ms/step - loss: 8216.6748 - mae: 82.8000 - val_loss: 4070.0105 - val_mae: 55.7379\n",
      "Epoch 3/30\n",
      "13/13 [==============================] - 0s 2ms/step - loss: 2241.2576 - mae: 39.3423 - val_loss: 985.7280 - val_mae: 25.3244\n",
      "Epoch 4/30\n",
      "13/13 [==============================] - 0s 2ms/step - loss: 606.8350 - mae: 20.6313 - val_loss: 499.1852 - val_mae: 19.3275\n",
      "Epoch 5/30\n",
      "13/13 [==============================] - 0s 2ms/step - loss: 440.2765 - mae: 17.9603 - val_loss: 451.2462 - val_mae: 17.8600\n",
      "Epoch 6/30\n",
      "13/13 [==============================] - 0s 2ms/step - loss: 382.6569 - mae: 16.4839 - val_loss: 366.1032 - val_mae: 16.0113\n",
      "Epoch 7/30\n",
      "13/13 [==============================] - 0s 2ms/step - loss: 305.7506 - mae: 14.8693 - val_loss: 290.7780 - val_mae: 14.2709\n",
      "Epoch 8/30\n",
      "13/13 [==============================] - 0s 3ms/step - loss: 241.6341 - mae: 13.4124 - val_loss: 239.0802 - val_mae: 12.8126\n",
      "Epoch 9/30\n",
      "13/13 [==============================] - 0s 2ms/step - loss: 191.4778 - mae: 11.9368 - val_loss: 187.1235 - val_mae: 11.1303\n",
      "Epoch 10/30\n",
      "13/13 [==============================] - 0s 2ms/step - loss: 140.0086 - mae: 9.9764 - val_loss: 128.0974 - val_mae: 8.9487\n",
      "Epoch 11/30\n",
      "13/13 [==============================] - 0s 2ms/step - loss: 94.7369 - mae: 8.0050 - val_loss: 92.8366 - val_mae: 7.5939\n",
      "Epoch 12/30\n",
      "13/13 [==============================] - 0s 2ms/step - loss: 76.5063 - mae: 7.0387 - val_loss: 80.5971 - val_mae: 6.9503\n",
      "Epoch 13/30\n",
      "13/13 [==============================] - 0s 2ms/step - loss: 68.0439 - mae: 6.4145 - val_loss: 76.2972 - val_mae: 6.7456\n",
      "Epoch 14/30\n",
      "13/13 [==============================] - 0s 3ms/step - loss: 65.5111 - mae: 6.2112 - val_loss: 74.5592 - val_mae: 6.6509\n",
      "Epoch 15/30\n",
      "13/13 [==============================] - 0s 2ms/step - loss: 63.8514 - mae: 6.0927 - val_loss: 73.1674 - val_mae: 6.5999\n",
      "Epoch 16/30\n",
      "13/13 [==============================] - 0s 2ms/step - loss: 62.7170 - mae: 6.0450 - val_loss: 71.9212 - val_mae: 6.5562\n",
      "Epoch 17/30\n",
      "13/13 [==============================] - 0s 3ms/step - loss: 61.8889 - mae: 5.9216 - val_loss: 71.8438 - val_mae: 6.5109\n",
      "Epoch 18/30\n",
      "13/13 [==============================] - 0s 2ms/step - loss: 61.7209 - mae: 6.0036 - val_loss: 69.8898 - val_mae: 6.4859\n",
      "Epoch 19/30\n",
      "13/13 [==============================] - 0s 2ms/step - loss: 60.9732 - mae: 5.8212 - val_loss: 70.9613 - val_mae: 6.4345\n",
      "Epoch 20/30\n",
      "13/13 [==============================] - 0s 2ms/step - loss: 59.3418 - mae: 5.7818 - val_loss: 68.4426 - val_mae: 6.4263\n",
      "Epoch 21/30\n",
      "13/13 [==============================] - 0s 2ms/step - loss: 58.8485 - mae: 5.8063 - val_loss: 68.2824 - val_mae: 6.3703\n",
      "Epoch 22/30\n",
      "13/13 [==============================] - 0s 2ms/step - loss: 58.3233 - mae: 5.7380 - val_loss: 67.3868 - val_mae: 6.3410\n",
      "Epoch 23/30\n",
      "13/13 [==============================] - 0s 3ms/step - loss: 57.7930 - mae: 5.6285 - val_loss: 67.3321 - val_mae: 6.3008\n",
      "Epoch 24/30\n",
      "13/13 [==============================] - 0s 2ms/step - loss: 57.3716 - mae: 5.6844 - val_loss: 66.0178 - val_mae: 6.2759\n",
      "Epoch 25/30\n",
      "13/13 [==============================] - 0s 2ms/step - loss: 56.6557 - mae: 5.5600 - val_loss: 66.1541 - val_mae: 6.2409\n",
      "Epoch 26/30\n",
      "13/13 [==============================] - 0s 3ms/step - loss: 56.0639 - mae: 5.5638 - val_loss: 64.5926 - val_mae: 6.2306\n",
      "Epoch 27/30\n",
      "13/13 [==============================] - 0s 2ms/step - loss: 55.6214 - mae: 5.5380 - val_loss: 64.0285 - val_mae: 6.1978\n",
      "Epoch 28/30\n",
      "13/13 [==============================] - 0s 2ms/step - loss: 55.0483 - mae: 5.5086 - val_loss: 63.5342 - val_mae: 6.1651\n",
      "Epoch 29/30\n",
      "13/13 [==============================] - 0s 2ms/step - loss: 55.0727 - mae: 5.3941 - val_loss: 63.6503 - val_mae: 6.1194\n",
      "Epoch 30/30\n",
      "13/13 [==============================] - 0s 2ms/step - loss: 54.0464 - mae: 5.4466 - val_loss: 62.3124 - val_mae: 6.1154\n"
     ]
    }
   ],
   "source": [
    "# モデルの学習\n",
    "history = model.fit(x_train, t_train, \n",
    "                    epochs=30,\n",
    "                    batch_size=32,\n",
    "                    validation_data=(x_test, t_test))"
   ]
  },
  {
   "cell_type": "code",
   "execution_count": 14,
   "metadata": {},
   "outputs": [
    {
     "name": "stdout",
     "output_type": "stream",
     "text": [
      "4/4 [==============================] - 0s 679us/step - loss: 62.3124 - mae: 6.1154\n"
     ]
    },
    {
     "data": {
      "text/plain": [
       "[62.312442779541016, 6.11537504196167]"
      ]
     },
     "execution_count": 14,
     "metadata": {},
     "output_type": "execute_result"
    }
   ],
   "source": [
    "# 学習済みモデルの評価\n",
    "score = model.evaluate(x_test, t_test)\n",
    "score"
   ]
  },
  {
   "cell_type": "code",
   "execution_count": 15,
   "metadata": {},
   "outputs": [
    {
     "data": {
      "image/png": "[encoded data removed]",
      "text/plain": [
       "<Figure size 432x288 with 1 Axes>"
      ]
     },
     "metadata": {
      "needs_background": "light"
     },
     "output_type": "display_data"
    }
   ],
   "source": [
    "# 結果の可視化\n",
    "result = pd.DataFrame(history.history)\n",
    "\n",
    "# 目的関数の可視化\n",
    "result[['loss', 'val_loss']].plot();"
   ]
  },
  {
   "cell_type": "code",
   "execution_count": 16,
   "metadata": {},
   "outputs": [
    {
     "data": {
      "image/png": "[encoded data removed]",
      "text/plain": [
       "<Figure size 432x288 with 1 Axes>"
      ]
     },
     "metadata": {
      "needs_background": "light"
     },
     "output_type": "display_data"
    }
   ],
   "source": [
    "# 評価指標の可視化\n",
    "result[['mae', 'val_mae']].plot();"
   ]
  },
  {
   "cell_type": "markdown",
   "metadata": {},
   "source": [
    "誤差修正"
   ]
  },
  {
   "cell_type": "code",
   "execution_count": 17,
   "metadata": {},
   "outputs": [
    {
     "name": "stdout",
     "output_type": "stream",
     "text": [
      "Epoch 1/60\n",
      "13/13 [==============================] - 0s 7ms/step - loss: 141.0828 - mae: 8.5428 - val_loss: 1653.7751 - val_mae: 38.8502\n",
      "Epoch 2/60\n",
      "13/13 [==============================] - 0s 2ms/step - loss: 75.5330 - mae: 6.5355 - val_loss: 1288.7847 - val_mae: 34.9145\n",
      "Epoch 3/60\n",
      "13/13 [==============================] - 0s 2ms/step - loss: 44.0089 - mae: 4.7085 - val_loss: 144.7713 - val_mae: 10.3344\n",
      "Epoch 4/60\n",
      "13/13 [==============================] - 0s 3ms/step - loss: 58.6018 - mae: 5.6790 - val_loss: 330.0814 - val_mae: 16.7144\n",
      "Epoch 5/60\n",
      "13/13 [==============================] - 0s 2ms/step - loss: 43.8203 - mae: 4.6556 - val_loss: 92.9904 - val_mae: 7.7848\n",
      "Epoch 6/60\n",
      "13/13 [==============================] - 0s 2ms/step - loss: 36.0219 - mae: 4.0516 - val_loss: 291.7710 - val_mae: 15.7860\n",
      "Epoch 7/60\n",
      "13/13 [==============================] - 0s 2ms/step - loss: 39.4791 - mae: 4.4449 - val_loss: 53.0943 - val_mae: 5.5363\n",
      "Epoch 8/60\n",
      "13/13 [==============================] - 0s 3ms/step - loss: 30.0787 - mae: 3.8834 - val_loss: 62.7015 - val_mae: 6.4693\n",
      "Epoch 9/60\n",
      "13/13 [==============================] - 0s 9ms/step - loss: 26.0085 - mae: 3.9345 - val_loss: 89.3219 - val_mae: 7.4124\n",
      "Epoch 10/60\n",
      "13/13 [==============================] - 0s 3ms/step - loss: 19.3612 - mae: 3.2011 - val_loss: 39.1455 - val_mae: 4.5692\n",
      "Epoch 11/60\n",
      "13/13 [==============================] - 0s 2ms/step - loss: 38.3035 - mae: 4.3343 - val_loss: 51.7921 - val_mae: 4.9917\n",
      "Epoch 12/60\n",
      "13/13 [==============================] - 0s 3ms/step - loss: 29.9200 - mae: 3.9442 - val_loss: 69.9686 - val_mae: 6.3007\n",
      "Epoch 13/60\n",
      "13/13 [==============================] - 0s 2ms/step - loss: 31.2625 - mae: 4.0021 - val_loss: 23.8744 - val_mae: 3.5668\n",
      "Epoch 14/60\n",
      "13/13 [==============================] - 0s 2ms/step - loss: 18.3087 - mae: 3.1066 - val_loss: 30.2833 - val_mae: 4.0725\n",
      "Epoch 15/60\n",
      "13/13 [==============================] - 0s 2ms/step - loss: 23.9108 - mae: 3.4629 - val_loss: 26.2543 - val_mae: 3.6923\n",
      "Epoch 16/60\n",
      "13/13 [==============================] - 0s 2ms/step - loss: 19.4023 - mae: 3.1688 - val_loss: 54.6116 - val_mae: 6.2430\n",
      "Epoch 17/60\n",
      "13/13 [==============================] - 0s 3ms/step - loss: 23.2254 - mae: 3.3338 - val_loss: 28.3789 - val_mae: 3.9916\n",
      "Epoch 18/60\n",
      "13/13 [==============================] - 0s 2ms/step - loss: 20.7569 - mae: 3.4163 - val_loss: 23.3328 - val_mae: 3.2644\n",
      "Epoch 19/60\n",
      "13/13 [==============================] - 0s 2ms/step - loss: 18.3083 - mae: 3.1929 - val_loss: 24.8688 - val_mae: 3.3440\n",
      "Epoch 20/60\n",
      "13/13 [==============================] - 0s 2ms/step - loss: 34.1577 - mae: 4.4312 - val_loss: 40.5638 - val_mae: 4.9136\n",
      "Epoch 21/60\n",
      "13/13 [==============================] - 0s 2ms/step - loss: 22.2076 - mae: 3.3492 - val_loss: 20.2160 - val_mae: 3.1175\n",
      "Epoch 22/60\n",
      "13/13 [==============================] - 0s 2ms/step - loss: 17.2564 - mae: 2.9258 - val_loss: 63.7748 - val_mae: 6.2937\n",
      "Epoch 23/60\n",
      "13/13 [==============================] - 0s 2ms/step - loss: 17.2759 - mae: 2.9631 - val_loss: 27.0575 - val_mae: 3.7345\n",
      "Epoch 24/60\n",
      "13/13 [==============================] - 0s 2ms/step - loss: 19.9750 - mae: 3.2311 - val_loss: 40.4134 - val_mae: 4.9651\n",
      "Epoch 25/60\n",
      "13/13 [==============================] - 0s 2ms/step - loss: 22.1101 - mae: 3.4820 - val_loss: 24.8811 - val_mae: 3.6416\n",
      "Epoch 26/60\n",
      "13/13 [==============================] - 0s 2ms/step - loss: 20.6611 - mae: 3.2932 - val_loss: 62.5838 - val_mae: 5.3966\n",
      "Epoch 27/60\n",
      "13/13 [==============================] - 0s 3ms/step - loss: 31.8405 - mae: 3.9262 - val_loss: 21.4459 - val_mae: 3.1579\n",
      "Epoch 28/60\n",
      "13/13 [==============================] - 0s 2ms/step - loss: 21.5617 - mae: 3.4307 - val_loss: 45.6930 - val_mae: 5.3404\n",
      "Epoch 29/60\n",
      "13/13 [==============================] - 0s 2ms/step - loss: 19.4628 - mae: 3.3283 - val_loss: 26.6005 - val_mae: 3.4035\n",
      "Epoch 30/60\n",
      "13/13 [==============================] - 0s 2ms/step - loss: 17.0893 - mae: 2.9872 - val_loss: 32.2798 - val_mae: 3.9642\n",
      "Epoch 31/60\n",
      "13/13 [==============================] - 0s 2ms/step - loss: 26.0714 - mae: 3.7292 - val_loss: 39.0446 - val_mae: 4.4846\n",
      "Epoch 32/60\n",
      "13/13 [==============================] - 0s 2ms/step - loss: 23.0287 - mae: 3.5768 - val_loss: 34.6592 - val_mae: 4.3368\n",
      "Epoch 33/60\n",
      "13/13 [==============================] - 0s 2ms/step - loss: 16.1928 - mae: 2.8504 - val_loss: 30.1445 - val_mae: 3.5454\n",
      "Epoch 34/60\n",
      "13/13 [==============================] - 0s 2ms/step - loss: 20.4578 - mae: 3.3152 - val_loss: 29.8339 - val_mae: 3.3934\n",
      "Epoch 35/60\n",
      "13/13 [==============================] - 0s 2ms/step - loss: 17.9059 - mae: 3.2219 - val_loss: 33.1108 - val_mae: 4.1424\n",
      "Epoch 36/60\n",
      "13/13 [==============================] - 0s 3ms/step - loss: 23.8627 - mae: 3.6608 - val_loss: 59.7756 - val_mae: 4.9899\n",
      "Epoch 37/60\n",
      "13/13 [==============================] - 0s 2ms/step - loss: 16.2937 - mae: 3.0225 - val_loss: 27.0350 - val_mae: 3.4005\n",
      "Epoch 38/60\n",
      "13/13 [==============================] - 0s 2ms/step - loss: 29.9459 - mae: 4.0621 - val_loss: 33.6236 - val_mae: 3.9849\n",
      "Epoch 39/60\n",
      "13/13 [==============================] - 0s 2ms/step - loss: 18.1596 - mae: 3.1184 - val_loss: 48.0467 - val_mae: 4.6882\n",
      "Epoch 40/60\n",
      "13/13 [==============================] - 0s 2ms/step - loss: 21.5224 - mae: 3.3150 - val_loss: 42.4525 - val_mae: 4.7528\n",
      "Epoch 41/60\n",
      "13/13 [==============================] - 0s 2ms/step - loss: 22.8110 - mae: 3.4903 - val_loss: 25.2403 - val_mae: 3.3333\n",
      "Epoch 42/60\n",
      "13/13 [==============================] - 0s 2ms/step - loss: 13.0053 - mae: 2.6257 - val_loss: 45.9640 - val_mae: 4.5915\n",
      "Epoch 43/60\n",
      "13/13 [==============================] - 0s 2ms/step - loss: 30.0905 - mae: 3.8413 - val_loss: 44.6260 - val_mae: 5.2456\n",
      "Epoch 44/60\n",
      "13/13 [==============================] - 0s 2ms/step - loss: 23.1359 - mae: 3.7171 - val_loss: 31.2341 - val_mae: 3.8828\n",
      "Epoch 45/60\n",
      "13/13 [==============================] - 0s 3ms/step - loss: 21.5106 - mae: 3.5455 - val_loss: 25.1865 - val_mae: 3.2316\n",
      "Epoch 46/60\n",
      "13/13 [==============================] - 0s 2ms/step - loss: 17.1776 - mae: 3.0421 - val_loss: 28.3781 - val_mae: 3.2450\n",
      "Epoch 47/60\n",
      "13/13 [==============================] - 0s 2ms/step - loss: 16.8496 - mae: 2.9993 - val_loss: 48.4379 - val_mae: 4.8677\n",
      "Epoch 48/60\n",
      "13/13 [==============================] - 0s 2ms/step - loss: 21.7046 - mae: 3.5655 - val_loss: 31.1881 - val_mae: 4.1222\n",
      "Epoch 49/60\n",
      "13/13 [==============================] - 0s 2ms/step - loss: 24.7897 - mae: 3.6947 - val_loss: 27.7881 - val_mae: 3.3843\n",
      "Epoch 50/60\n",
      "13/13 [==============================] - 0s 2ms/step - loss: 10.9241 - mae: 2.4317 - val_loss: 47.3219 - val_mae: 5.3101\n",
      "Epoch 51/60\n",
      "13/13 [==============================] - 0s 2ms/step - loss: 18.5816 - mae: 3.1721 - val_loss: 27.3594 - val_mae: 3.4422\n",
      "Epoch 52/60\n",
      "13/13 [==============================] - 0s 2ms/step - loss: 22.1030 - mae: 3.3167 - val_loss: 49.0407 - val_mae: 5.2881\n",
      "Epoch 53/60\n",
      "13/13 [==============================] - 0s 2ms/step - loss: 16.4893 - mae: 2.9070 - val_loss: 22.5767 - val_mae: 3.2377\n",
      "Epoch 54/60\n",
      "13/13 [==============================] - 0s 2ms/step - loss: 12.6486 - mae: 2.5895 - val_loss: 28.7003 - val_mae: 3.8941\n",
      "Epoch 55/60\n",
      "13/13 [==============================] - 0s 3ms/step - loss: 17.9264 - mae: 3.2297 - val_loss: 27.6584 - val_mae: 3.5310\n",
      "Epoch 56/60\n",
      "13/13 [==============================] - 0s 2ms/step - loss: 22.5531 - mae: 3.4932 - val_loss: 39.1369 - val_mae: 4.4459\n",
      "Epoch 57/60\n",
      "13/13 [==============================] - 0s 2ms/step - loss: 19.0588 - mae: 3.1865 - val_loss: 32.0208 - val_mae: 4.2711\n",
      "Epoch 58/60\n",
      "13/13 [==============================] - 0s 2ms/step - loss: 28.2884 - mae: 3.9976 - val_loss: 37.3919 - val_mae: 4.8329\n",
      "Epoch 59/60\n",
      "13/13 [==============================] - 0s 2ms/step - loss: 20.3062 - mae: 3.3205 - val_loss: 31.0265 - val_mae: 3.9531\n",
      "Epoch 60/60\n",
      "13/13 [==============================] - 0s 2ms/step - loss: 17.2820 - mae: 3.0500 - val_loss: 29.8518 - val_mae: 4.1157\n"
     ]
    }
   ],
   "source": [
    "# シードの固定\n",
    "reset_seed(0)\n",
    "\n",
    "# モデルの構築\n",
    "model = tf.keras.models.Sequential([\n",
    "    tf.keras.layers.BatchNormalization(input_shape=(13,)),\n",
    "    tf.keras.layers.Dense(32, activation='relu'),\n",
    "    tf.keras.layers.Dense(1)\n",
    "])\n",
    "\n",
    "# モデルのコンパイル\n",
    "model.compile(optimizer='sgd',\n",
    "               loss='mse',\n",
    "               metrics=['mae'])\n",
    "\n",
    "# モデルの学習\n",
    "history = model.fit(x_train, t_train, \n",
    "                    epochs=60,\n",
    "                    batch_size=32,\n",
    "                    validation_data=(x_test, t_test))"
   ]
  },
  {
   "cell_type": "code",
   "execution_count": 18,
   "metadata": {},
   "outputs": [
    {
     "name": "stdout",
     "output_type": "stream",
     "text": [
      "4/4 [==============================] - 0s 739us/step - loss: 29.8518 - mae: 4.1157\n"
     ]
    },
    {
     "data": {
      "text/plain": [
       "[29.85184097290039, 4.115668296813965]"
      ]
     },
     "execution_count": 18,
     "metadata": {},
     "output_type": "execute_result"
    }
   ],
   "source": [
    "# 学習済みモデルの評価\n",
    "score = model.evaluate(x_test, t_test)\n",
    "score"
   ]
  },
  {
   "cell_type": "code",
   "execution_count": 19,
   "metadata": {},
   "outputs": [
    {
     "data": {
      "image/png": "[encoded data removed]",
      "text/plain": [
       "<Figure size 432x288 with 1 Axes>"
      ]
     },
     "metadata": {
      "needs_background": "light"
     },
     "output_type": "display_data"
    }
   ],
   "source": [
    "# 結果の可視化\n",
    "result = pd.DataFrame(history.history)\n",
    "\n",
    "# 目的関数の可視化\n",
    "result[['loss', 'val_loss']].plot();"
   ]
  },
  {
   "cell_type": "code",
   "execution_count": 20,
   "metadata": {},
   "outputs": [
    {
     "data": {
      "image/png": "[encoded data removed]",
      "text/plain": [
       "<Figure size 432x288 with 1 Axes>"
      ]
     },
     "metadata": {
      "needs_background": "light"
     },
     "output_type": "display_data"
    }
   ],
   "source": [
    "# 評価指標の可視化\n",
    "result[['mae', 'val_mae']].plot();"
   ]
  }
 ],
 "metadata": {
  "kernelspec": {
   "display_name": "Python 3",
   "language": "python",
   "name": "python3"
  },
  "language_info": {
   "codemirror_mode": {
    "name": "ipython",
    "version": 3
   },
   "file_extension": ".py",
   "mimetype": "text/x-python",
   "name": "python",
   "nbconvert_exporter": "python",
   "pygments_lexer": "ipython3",
   "version": "3.7.6"
  }
 },
 "nbformat": 4,
 "nbformat_minor": 4
}
