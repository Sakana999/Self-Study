{
 "cells": [
  {
   "cell_type": "markdown",
   "metadata": {},
   "source": [
    "主成分分析 (Principal Component Analysis)"
   ]
  },
  {
   "cell_type": "code",
   "execution_count": 1,
   "metadata": {},
   "outputs": [],
   "source": [
    "import numpy as np\n",
    "import pandas as pd\n",
    "import seaborn as sns\n",
    "import matplotlib.pyplot as plt"
   ]
  },
  {
   "cell_type": "code",
   "execution_count": 2,
   "metadata": {},
   "outputs": [],
   "source": [
    "# データの読み込み\n",
    "from sklearn.datasets import load_iris\n",
    "dataset = load_iris()\n",
    "x = dataset.data\n",
    "t = dataset.target\n",
    "feature_names = dataset.feature_names"
   ]
  },
  {
   "cell_type": "code",
   "execution_count": 3,
   "metadata": {},
   "outputs": [
    {
     "data": {
      "text/html": [
       "<div>\n",
       "<style scoped>\n",
       "    .dataframe tbody tr th:only-of-type {\n",
       "        vertical-align: middle;\n",
       "    }\n",
       "\n",
       "    .dataframe tbody tr th {\n",
       "        vertical-align: top;\n",
       "    }\n",
       "\n",
       "    .dataframe thead th {\n",
       "        text-align: right;\n",
       "    }\n",
       "</style>\n",
       "<table border=\"1\" class=\"dataframe\">\n",
       "  <thead>\n",
       "    <tr style=\"text-align: right;\">\n",
       "      <th></th>\n",
       "      <th>sepal length (cm)</th>\n",
       "      <th>sepal width (cm)</th>\n",
       "      <th>petal length (cm)</th>\n",
       "      <th>petal width (cm)</th>\n",
       "    </tr>\n",
       "  </thead>\n",
       "  <tbody>\n",
       "    <tr>\n",
       "      <th>0</th>\n",
       "      <td>5.1</td>\n",
       "      <td>3.5</td>\n",
       "      <td>1.4</td>\n",
       "      <td>0.2</td>\n",
       "    </tr>\n",
       "    <tr>\n",
       "      <th>1</th>\n",
       "      <td>4.9</td>\n",
       "      <td>3.0</td>\n",
       "      <td>1.4</td>\n",
       "      <td>0.2</td>\n",
       "    </tr>\n",
       "    <tr>\n",
       "      <th>2</th>\n",
       "      <td>4.7</td>\n",
       "      <td>3.2</td>\n",
       "      <td>1.3</td>\n",
       "      <td>0.2</td>\n",
       "    </tr>\n",
       "    <tr>\n",
       "      <th>3</th>\n",
       "      <td>4.6</td>\n",
       "      <td>3.1</td>\n",
       "      <td>1.5</td>\n",
       "      <td>0.2</td>\n",
       "    </tr>\n",
       "    <tr>\n",
       "      <th>4</th>\n",
       "      <td>5.0</td>\n",
       "      <td>3.6</td>\n",
       "      <td>1.4</td>\n",
       "      <td>0.2</td>\n",
       "    </tr>\n",
       "  </tbody>\n",
       "</table>\n",
       "</div>"
      ],
      "text/plain": [
       "   sepal length (cm)  sepal width (cm)  petal length (cm)  petal width (cm)\n",
       "0                5.1               3.5                1.4               0.2\n",
       "1                4.9               3.0                1.4               0.2\n",
       "2                4.7               3.2                1.3               0.2\n",
       "3                4.6               3.1                1.5               0.2\n",
       "4                5.0               3.6                1.4               0.2"
      ]
     },
     "execution_count": 3,
     "metadata": {},
     "output_type": "execute_result"
    }
   ],
   "source": [
    "# データの確認\n",
    "pd.DataFrame(x, columns=feature_names).head()"
   ]
  },
  {
   "cell_type": "code",
   "execution_count": 4,
   "metadata": {},
   "outputs": [],
   "source": [
    "# モデルの定義\n",
    "from sklearn.decomposition import PCA\n",
    "pca = PCA(n_components=2, random_state=0)\n",
    "# n_components で指定しているのは、次元削減後の次元数"
   ]
  },
  {
   "cell_type": "code",
   "execution_count": 5,
   "metadata": {},
   "outputs": [
    {
     "data": {
      "text/plain": [
       "PCA(copy=True, iterated_power='auto', n_components=2, random_state=0,\n",
       "    svd_solver='auto', tol=0.0, whiten=False)"
      ]
     },
     "execution_count": 5,
     "metadata": {},
     "output_type": "execute_result"
    }
   ],
   "source": [
    "# モデルの学習\n",
    "pca.fit(x)"
   ]
  },
  {
   "cell_type": "code",
   "execution_count": 6,
   "metadata": {},
   "outputs": [
    {
     "data": {
      "text/plain": [
       "array([[ 0.67918961, -0.03571514,  1.2714061 ,  0.53137208],\n",
       "       [-0.03571514,  0.18303922, -0.32672469, -0.13706322],\n",
       "       [ 1.2714061 , -0.32672469,  3.12237957,  1.28464626],\n",
       "       [ 0.53137208, -0.13706322,  1.28464626,  0.58834865]])"
      ]
     },
     "execution_count": 6,
     "metadata": {},
     "output_type": "execute_result"
    }
   ],
   "source": [
    "# 分散の確認\n",
    "pca.get_covariance()"
   ]
  },
  {
   "cell_type": "code",
   "execution_count": 7,
   "metadata": {},
   "outputs": [],
   "source": [
    "# 主成分分析の適用\n",
    "x_transformed = pca.transform(x)"
   ]
  },
  {
   "cell_type": "code",
   "execution_count": 8,
   "metadata": {},
   "outputs": [
    {
     "data": {
      "text/html": [
       "<div>\n",
       "<style scoped>\n",
       "    .dataframe tbody tr th:only-of-type {\n",
       "        vertical-align: middle;\n",
       "    }\n",
       "\n",
       "    .dataframe tbody tr th {\n",
       "        vertical-align: top;\n",
       "    }\n",
       "\n",
       "    .dataframe thead th {\n",
       "        text-align: right;\n",
       "    }\n",
       "</style>\n",
       "<table border=\"1\" class=\"dataframe\">\n",
       "  <thead>\n",
       "    <tr style=\"text-align: right;\">\n",
       "      <th></th>\n",
       "      <th>第一主成分</th>\n",
       "      <th>第二主成分</th>\n",
       "    </tr>\n",
       "  </thead>\n",
       "  <tbody>\n",
       "    <tr>\n",
       "      <th>0</th>\n",
       "      <td>-2.684126</td>\n",
       "      <td>0.319397</td>\n",
       "    </tr>\n",
       "    <tr>\n",
       "      <th>1</th>\n",
       "      <td>-2.714142</td>\n",
       "      <td>-0.177001</td>\n",
       "    </tr>\n",
       "    <tr>\n",
       "      <th>2</th>\n",
       "      <td>-2.888991</td>\n",
       "      <td>-0.144949</td>\n",
       "    </tr>\n",
       "    <tr>\n",
       "      <th>3</th>\n",
       "      <td>-2.745343</td>\n",
       "      <td>-0.318299</td>\n",
       "    </tr>\n",
       "    <tr>\n",
       "      <th>4</th>\n",
       "      <td>-2.728717</td>\n",
       "      <td>0.326755</td>\n",
       "    </tr>\n",
       "    <tr>\n",
       "      <th>5</th>\n",
       "      <td>-2.280860</td>\n",
       "      <td>0.741330</td>\n",
       "    </tr>\n",
       "    <tr>\n",
       "      <th>6</th>\n",
       "      <td>-2.820538</td>\n",
       "      <td>-0.089461</td>\n",
       "    </tr>\n",
       "    <tr>\n",
       "      <th>7</th>\n",
       "      <td>-2.626145</td>\n",
       "      <td>0.163385</td>\n",
       "    </tr>\n",
       "    <tr>\n",
       "      <th>8</th>\n",
       "      <td>-2.886383</td>\n",
       "      <td>-0.578312</td>\n",
       "    </tr>\n",
       "    <tr>\n",
       "      <th>9</th>\n",
       "      <td>-2.672756</td>\n",
       "      <td>-0.113774</td>\n",
       "    </tr>\n",
       "  </tbody>\n",
       "</table>\n",
       "</div>"
      ],
      "text/plain": [
       "      第一主成分     第二主成分\n",
       "0 -2.684126  0.319397\n",
       "1 -2.714142 -0.177001\n",
       "2 -2.888991 -0.144949\n",
       "3 -2.745343 -0.318299\n",
       "4 -2.728717  0.326755\n",
       "5 -2.280860  0.741330\n",
       "6 -2.820538 -0.089461\n",
       "7 -2.626145  0.163385\n",
       "8 -2.886383 -0.578312\n",
       "9 -2.672756 -0.113774"
      ]
     },
     "execution_count": 8,
     "metadata": {},
     "output_type": "execute_result"
    }
   ],
   "source": [
    "# 主成分分析適用後のデータの確認\n",
    "pd.DataFrame(x_transformed, columns=['第一主成分', '第二主成分']).head(10)"
   ]
  },
  {
   "cell_type": "code",
   "execution_count": 9,
   "metadata": {},
   "outputs": [
    {
     "name": "stdout",
     "output_type": "stream",
     "text": [
      "第一主成分の寄与率：0.924618723201727\n",
      "第二主成分の寄与率：0.05306648311706785\n"
     ]
    }
   ],
   "source": [
    "# それぞれの列が保持する元のデータの情報の割合:寄与率 (Proportion of the variance) \n",
    "print('第一主成分の寄与率：{}'.format(pca.explained_variance_ratio_[0]))\n",
    "print('第二主成分の寄与率：{}'.format(pca.explained_variance_ratio_[1]))"
   ]
  },
  {
   "cell_type": "code",
   "execution_count": 10,
   "metadata": {},
   "outputs": [
    {
     "data": {
      "text/plain": [
       "array([0, 1, 2])"
      ]
     },
     "execution_count": 10,
     "metadata": {},
     "output_type": "execute_result"
    }
   ],
   "source": [
    "# 0, 1, 2 の 3 つのクラスがあることを確認\n",
    "np.unique(t)"
   ]
  },
  {
   "cell_type": "code",
   "execution_count": 11,
   "metadata": {},
   "outputs": [
    {
     "data": {
      "text/plain": [
       "'\\n4次元データが2次元データに削減され、直感的に理解できる形に\\n'"
      ]
     },
     "execution_count": 11,
     "metadata": {},
     "output_type": "execute_result"
    },
    {
     "data": {
      "image/png": "[encoded data removed]",
      "text/plain": [
       "<Figure size 432x288 with 1 Axes>"
      ]
     },
     "metadata": {
      "needs_background": "light"
     },
     "output_type": "display_data"
    }
   ],
   "source": [
    "# 次元削減後のデータを可視化\n",
    "sns.scatterplot(x_transformed[:, 0], x_transformed[:, 1], \n",
    "             hue=t, palette=sns.color_palette(n_colors=3));\n",
    "\n",
    "'''\n",
    "4次元データが2次元データに削減され、直感的に理解できる形に\n",
    "'''"
   ]
  },
  {
   "cell_type": "code",
   "execution_count": 12,
   "metadata": {},
   "outputs": [],
   "source": [
    "# 変数の標準化\n",
    "from sklearn.preprocessing import StandardScaler\n",
    "scaler = StandardScaler()\n",
    "x_scaled = scaler.fit_transform(x)"
   ]
  },
  {
   "cell_type": "code",
   "execution_count": 13,
   "metadata": {},
   "outputs": [],
   "source": [
    "# モデルの定義\n",
    "pca = PCA(n_components=2, random_state=0)"
   ]
  },
  {
   "cell_type": "code",
   "execution_count": 14,
   "metadata": {},
   "outputs": [],
   "source": [
    "# 主成分分析の適用\n",
    "x_std_transformed = pca.fit_transform(x_scaled)"
   ]
  },
  {
   "cell_type": "code",
   "execution_count": 15,
   "metadata": {},
   "outputs": [
    {
     "data": {
      "text/html": [
       "<div>\n",
       "<style scoped>\n",
       "    .dataframe tbody tr th:only-of-type {\n",
       "        vertical-align: middle;\n",
       "    }\n",
       "\n",
       "    .dataframe tbody tr th {\n",
       "        vertical-align: top;\n",
       "    }\n",
       "\n",
       "    .dataframe thead th {\n",
       "        text-align: right;\n",
       "    }\n",
       "</style>\n",
       "<table border=\"1\" class=\"dataframe\">\n",
       "  <thead>\n",
       "    <tr style=\"text-align: right;\">\n",
       "      <th></th>\n",
       "      <th>第一主成分</th>\n",
       "      <th>第二主成分</th>\n",
       "    </tr>\n",
       "  </thead>\n",
       "  <tbody>\n",
       "    <tr>\n",
       "      <th>0</th>\n",
       "      <td>-2.264703</td>\n",
       "      <td>0.480027</td>\n",
       "    </tr>\n",
       "    <tr>\n",
       "      <th>1</th>\n",
       "      <td>-2.080961</td>\n",
       "      <td>-0.674134</td>\n",
       "    </tr>\n",
       "    <tr>\n",
       "      <th>2</th>\n",
       "      <td>-2.364229</td>\n",
       "      <td>-0.341908</td>\n",
       "    </tr>\n",
       "    <tr>\n",
       "      <th>3</th>\n",
       "      <td>-2.299384</td>\n",
       "      <td>-0.597395</td>\n",
       "    </tr>\n",
       "    <tr>\n",
       "      <th>4</th>\n",
       "      <td>-2.389842</td>\n",
       "      <td>0.646835</td>\n",
       "    </tr>\n",
       "    <tr>\n",
       "      <th>5</th>\n",
       "      <td>-2.075631</td>\n",
       "      <td>1.489178</td>\n",
       "    </tr>\n",
       "    <tr>\n",
       "      <th>6</th>\n",
       "      <td>-2.444029</td>\n",
       "      <td>0.047644</td>\n",
       "    </tr>\n",
       "    <tr>\n",
       "      <th>7</th>\n",
       "      <td>-2.232847</td>\n",
       "      <td>0.223148</td>\n",
       "    </tr>\n",
       "    <tr>\n",
       "      <th>8</th>\n",
       "      <td>-2.334640</td>\n",
       "      <td>-1.115328</td>\n",
       "    </tr>\n",
       "    <tr>\n",
       "      <th>9</th>\n",
       "      <td>-2.184328</td>\n",
       "      <td>-0.469014</td>\n",
       "    </tr>\n",
       "  </tbody>\n",
       "</table>\n",
       "</div>"
      ],
      "text/plain": [
       "      第一主成分     第二主成分\n",
       "0 -2.264703  0.480027\n",
       "1 -2.080961 -0.674134\n",
       "2 -2.364229 -0.341908\n",
       "3 -2.299384 -0.597395\n",
       "4 -2.389842  0.646835\n",
       "5 -2.075631  1.489178\n",
       "6 -2.444029  0.047644\n",
       "7 -2.232847  0.223148\n",
       "8 -2.334640 -1.115328\n",
       "9 -2.184328 -0.469014"
      ]
     },
     "execution_count": 15,
     "metadata": {},
     "output_type": "execute_result"
    }
   ],
   "source": [
    "# 主成分分析適用後のデータの確認\n",
    "pd.DataFrame(x_std_transformed, columns=['第一主成分', '第二主成分']).head(10)"
   ]
  },
  {
   "cell_type": "code",
   "execution_count": 16,
   "metadata": {},
   "outputs": [
    {
     "name": "stdout",
     "output_type": "stream",
     "text": [
      "第一主成分の寄与率：0.7296244541329985\n",
      "第二主成分の寄与率：0.22850761786701793\n"
     ]
    }
   ],
   "source": [
    "# 寄与率\n",
    "print('第一主成分の寄与率：{}'.format(pca.explained_variance_ratio_[0]))\n",
    "print('第二主成分の寄与率：{}'.format(pca.explained_variance_ratio_[1]))"
   ]
  },
  {
   "cell_type": "code",
   "execution_count": 17,
   "metadata": {},
   "outputs": [
    {
     "data": {
      "image/png": "[encoded data removed]",
      "text/plain": [
       "<Figure size 432x288 with 1 Axes>"
      ]
     },
     "metadata": {
      "needs_background": "light"
     },
     "output_type": "display_data"
    }
   ],
   "source": [
    "# 次元削減後のデータを可視化\n",
    "sns.scatterplot(x_std_transformed[:, 0], x_std_transformed[:, 1], \n",
    "             hue=t, palette=sns.color_palette(n_colors=3));"
   ]
  },
  {
   "cell_type": "code",
   "execution_count": 18,
   "metadata": {},
   "outputs": [
    {
     "data": {
      "image/png": "[encoded data removed]",
      "text/plain": [
       "<Figure size 504x720 with 2 Axes>"
      ]
     },
     "metadata": {
      "needs_background": "light"
     },
     "output_type": "display_data"
    }
   ],
   "source": [
    "fig = plt.figure(figsize=(7, 10))\n",
    "\n",
    "# 標準化適用前\n",
    "ax1 = fig.add_subplot(2, 1, 1)\n",
    "sns.scatterplot(x_transformed[:, 0], x_transformed[:, 1], \n",
    "             hue=t, palette=sns.color_palette(n_colors=3));\n",
    "ax1.set_title('Before')\n",
    "\n",
    "# 標準化適用後\n",
    "ax2 = fig.add_subplot(2, 1, 2)\n",
    "sns.scatterplot(x_std_transformed[:, 0], x_std_transformed[:, 1], \n",
    "             hue=t, palette=sns.color_palette(n_colors=3));\n",
    "ax2.set_title('After');"
   ]
  },
  {
   "cell_type": "markdown",
   "metadata": {},
   "source": [
    "k-平均法 (k-means)\n",
    "1. 人間側がクラスター（グループ）の数を決める\n",
    "2. ランダムに振られた点（重心）から近いものをクラスターとする\n",
    "3. 紐づいたクラスターとの距離を元に重心を移動"
   ]
  },
  {
   "cell_type": "code",
   "execution_count": 19,
   "metadata": {},
   "outputs": [
    {
     "data": {
      "text/html": [
       "<div>\n",
       "<style scoped>\n",
       "    .dataframe tbody tr th:only-of-type {\n",
       "        vertical-align: middle;\n",
       "    }\n",
       "\n",
       "    .dataframe tbody tr th {\n",
       "        vertical-align: top;\n",
       "    }\n",
       "\n",
       "    .dataframe thead th {\n",
       "        text-align: right;\n",
       "    }\n",
       "</style>\n",
       "<table border=\"1\" class=\"dataframe\">\n",
       "  <thead>\n",
       "    <tr style=\"text-align: right;\">\n",
       "      <th></th>\n",
       "      <th>No</th>\n",
       "      <th>弁当・麺類</th>\n",
       "      <th>飲料</th>\n",
       "      <th>おにぎり・サンドイッチ</th>\n",
       "      <th>スイーツ</th>\n",
       "      <th>カップスープ</th>\n",
       "      <th>サラダ</th>\n",
       "    </tr>\n",
       "  </thead>\n",
       "  <tbody>\n",
       "    <tr>\n",
       "      <th>0</th>\n",
       "      <td>1</td>\n",
       "      <td>25350</td>\n",
       "      <td>3650</td>\n",
       "      <td>8945</td>\n",
       "      <td>0</td>\n",
       "      <td>4867</td>\n",
       "      <td>8945</td>\n",
       "    </tr>\n",
       "    <tr>\n",
       "      <th>1</th>\n",
       "      <td>2</td>\n",
       "      <td>24500</td>\n",
       "      <td>0</td>\n",
       "      <td>0</td>\n",
       "      <td>1827</td>\n",
       "      <td>0</td>\n",
       "      <td>0</td>\n",
       "    </tr>\n",
       "    <tr>\n",
       "      <th>2</th>\n",
       "      <td>3</td>\n",
       "      <td>23050</td>\n",
       "      <td>5750</td>\n",
       "      <td>11570</td>\n",
       "      <td>0</td>\n",
       "      <td>7667</td>\n",
       "      <td>11570</td>\n",
       "    </tr>\n",
       "  </tbody>\n",
       "</table>\n",
       "</div>"
      ],
      "text/plain": [
       "   No  弁当・麺類    飲料  おにぎり・サンドイッチ  スイーツ  カップスープ    サラダ\n",
       "0   1  25350  3650         8945     0    4867   8945\n",
       "1   2  24500     0            0  1827       0      0\n",
       "2   3  23050  5750        11570     0    7667  11570"
      ]
     },
     "execution_count": 19,
     "metadata": {},
     "output_type": "execute_result"
    }
   ],
   "source": [
    "df = pd.read_csv('convinience_store.csv')\n",
    "df.head(3)"
   ]
  },
  {
   "cell_type": "code",
   "execution_count": 20,
   "metadata": {},
   "outputs": [
    {
     "data": {
      "text/plain": [
       "array([[25350,  3650,  8945,     0,  4867,  8945],\n",
       "       [24500,     0,     0,  1827,     0,     0],\n",
       "       [23050,  5750, 11570,     0,  7667, 11570]])"
      ]
     },
     "execution_count": 20,
     "metadata": {},
     "output_type": "execute_result"
    }
   ],
   "source": [
    "x = df.drop('No', axis=1).values\n",
    "x[:3]"
   ]
  },
  {
   "cell_type": "code",
   "execution_count": 21,
   "metadata": {},
   "outputs": [],
   "source": [
    "# k-平均法の実装\n",
    "from sklearn.cluster import KMeans"
   ]
  },
  {
   "cell_type": "code",
   "execution_count": 22,
   "metadata": {},
   "outputs": [
    {
     "data": {
      "text/plain": [
       "KMeans(algorithm='auto', copy_x=True, init='k-means++', max_iter=300,\n",
       "       n_clusters=3, n_init=10, n_jobs=None, precompute_distances='auto',\n",
       "       random_state=0, tol=0.0001, verbose=0)"
      ]
     },
     "execution_count": 22,
     "metadata": {},
     "output_type": "execute_result"
    }
   ],
   "source": [
    "# モデルの定義\n",
    "kmeans = KMeans(n_clusters=3, random_state=0)\n",
    "\n",
    "# モデルの学習\n",
    "kmeans.fit(x)"
   ]
  },
  {
   "cell_type": "code",
   "execution_count": 23,
   "metadata": {},
   "outputs": [
    {
     "data": {
      "text/plain": [
       "array([[ 5043.5483871 ,  3486.41935484,  7017.74193548,  2206.        ,\n",
       "         2512.90322581,  3509.12903226],\n",
       "       [28681.25      ,  5637.66666667,  1298.75      ,  1271.        ,\n",
       "         1770.875     ,   716.95833333],\n",
       "       [17266.66666667,  2730.93333333, 10721.66666667,   590.86666667,\n",
       "         3447.33333333,  9851.2       ]])"
      ]
     },
     "execution_count": 23,
     "metadata": {},
     "output_type": "execute_result"
    }
   ],
   "source": [
    "# クラスターの中心座標の確認\n",
    "kmeans.cluster_centers_"
   ]
  },
  {
   "cell_type": "code",
   "execution_count": 24,
   "metadata": {},
   "outputs": [
    {
     "data": {
      "text/plain": [
       "(3, 6)"
      ]
     },
     "execution_count": 24,
     "metadata": {},
     "output_type": "execute_result"
    }
   ],
   "source": [
    "kmeans.cluster_centers_.shape"
   ]
  },
  {
   "cell_type": "code",
   "execution_count": 25,
   "metadata": {},
   "outputs": [
    {
     "data": {
      "text/plain": [
       "array([2, 1, 2, 2, 1, 2, 1, 1, 1, 2, 1, 2, 2, 1, 2, 2, 2, 2, 0, 2, 2, 0,\n",
       "       2, 2, 0, 0, 0, 0, 0, 0, 0, 0, 0, 0, 0, 0, 0, 0, 0, 0, 0, 0, 0, 0,\n",
       "       0, 0, 0, 0, 0, 0, 0, 0, 0, 1, 1, 1, 1, 1, 1, 1, 1, 1, 1, 1, 1, 1,\n",
       "       1, 1, 1, 1], dtype=int32)"
      ]
     },
     "execution_count": 25,
     "metadata": {},
     "output_type": "execute_result"
    }
   ],
   "source": [
    "# クラスタリングの適用\n",
    "cluster = kmeans.predict(ｘ)\n",
    "cluster"
   ]
  },
  {
   "cell_type": "code",
   "execution_count": 26,
   "metadata": {},
   "outputs": [
    {
     "data": {
      "text/html": [
       "<div>\n",
       "<style scoped>\n",
       "    .dataframe tbody tr th:only-of-type {\n",
       "        vertical-align: middle;\n",
       "    }\n",
       "\n",
       "    .dataframe tbody tr th {\n",
       "        vertical-align: top;\n",
       "    }\n",
       "\n",
       "    .dataframe thead th {\n",
       "        text-align: right;\n",
       "    }\n",
       "</style>\n",
       "<table border=\"1\" class=\"dataframe\">\n",
       "  <thead>\n",
       "    <tr style=\"text-align: right;\">\n",
       "      <th></th>\n",
       "      <th>No</th>\n",
       "      <th>弁当・麺類</th>\n",
       "      <th>飲料</th>\n",
       "      <th>おにぎり・サンドイッチ</th>\n",
       "      <th>スイーツ</th>\n",
       "      <th>カップスープ</th>\n",
       "      <th>サラダ</th>\n",
       "      <th>cluster</th>\n",
       "    </tr>\n",
       "  </thead>\n",
       "  <tbody>\n",
       "    <tr>\n",
       "      <th>0</th>\n",
       "      <td>1</td>\n",
       "      <td>25350</td>\n",
       "      <td>3650</td>\n",
       "      <td>8945</td>\n",
       "      <td>0</td>\n",
       "      <td>4867</td>\n",
       "      <td>8945</td>\n",
       "      <td>2</td>\n",
       "    </tr>\n",
       "    <tr>\n",
       "      <th>1</th>\n",
       "      <td>2</td>\n",
       "      <td>24500</td>\n",
       "      <td>0</td>\n",
       "      <td>0</td>\n",
       "      <td>1827</td>\n",
       "      <td>0</td>\n",
       "      <td>0</td>\n",
       "      <td>1</td>\n",
       "    </tr>\n",
       "    <tr>\n",
       "      <th>2</th>\n",
       "      <td>3</td>\n",
       "      <td>23050</td>\n",
       "      <td>5750</td>\n",
       "      <td>11570</td>\n",
       "      <td>0</td>\n",
       "      <td>7667</td>\n",
       "      <td>11570</td>\n",
       "      <td>2</td>\n",
       "    </tr>\n",
       "    <tr>\n",
       "      <th>3</th>\n",
       "      <td>4</td>\n",
       "      <td>22850</td>\n",
       "      <td>4100</td>\n",
       "      <td>10145</td>\n",
       "      <td>0</td>\n",
       "      <td>5467</td>\n",
       "      <td>10145</td>\n",
       "      <td>2</td>\n",
       "    </tr>\n",
       "    <tr>\n",
       "      <th>4</th>\n",
       "      <td>5</td>\n",
       "      <td>22500</td>\n",
       "      <td>0</td>\n",
       "      <td>0</td>\n",
       "      <td>0</td>\n",
       "      <td>0</td>\n",
       "      <td>0</td>\n",
       "      <td>1</td>\n",
       "    </tr>\n",
       "  </tbody>\n",
       "</table>\n",
       "</div>"
      ],
      "text/plain": [
       "   No  弁当・麺類    飲料  おにぎり・サンドイッチ  スイーツ  カップスープ    サラダ  cluster\n",
       "0   1  25350  3650         8945     0    4867   8945        2\n",
       "1   2  24500     0            0  1827       0      0        1\n",
       "2   3  23050  5750        11570     0    7667  11570        2\n",
       "3   4  22850  4100        10145     0    5467  10145        2\n",
       "4   5  22500     0            0     0       0      0        1"
      ]
     },
     "execution_count": 26,
     "metadata": {},
     "output_type": "execute_result"
    }
   ],
   "source": [
    "# データフレームの作成\n",
    "df_cluster = df.copy() # データフレームをコピー\n",
    "df_cluster['cluster'] = cluster\n",
    "      \n",
    "df_cluster.head()"
   ]
  },
  {
   "cell_type": "code",
   "execution_count": 27,
   "metadata": {},
   "outputs": [
    {
     "data": {
      "text/html": [
       "<div>\n",
       "<style scoped>\n",
       "    .dataframe tbody tr th:only-of-type {\n",
       "        vertical-align: middle;\n",
       "    }\n",
       "\n",
       "    .dataframe tbody tr th {\n",
       "        vertical-align: top;\n",
       "    }\n",
       "\n",
       "    .dataframe thead th {\n",
       "        text-align: right;\n",
       "    }\n",
       "</style>\n",
       "<table border=\"1\" class=\"dataframe\">\n",
       "  <thead>\n",
       "    <tr style=\"text-align: right;\">\n",
       "      <th></th>\n",
       "    </tr>\n",
       "  </thead>\n",
       "  <tbody>\n",
       "  </tbody>\n",
       "</table>\n",
       "</div>"
      ],
      "text/plain": [
       "Empty DataFrame\n",
       "Columns: []\n",
       "Index: []"
      ]
     },
     "execution_count": 27,
     "metadata": {},
     "output_type": "execute_result"
    }
   ],
   "source": [
    "# 空のデータフレームを作成\n",
    "df_results = pd.DataFrame()\n",
    "df_results"
   ]
  },
  {
   "cell_type": "code",
   "execution_count": 28,
   "metadata": {},
   "outputs": [
    {
     "data": {
      "text/plain": [
       "[37.806451612903224,\n",
       " 5043.548387096775,\n",
       " 3486.4193548387098,\n",
       " 7017.741935483871,\n",
       " 2206.0,\n",
       " 2512.9032258064517,\n",
       " 3509.1290322580644,\n",
       " 0.0]"
      ]
     },
     "execution_count": 28,
     "metadata": {},
     "output_type": "execute_result"
    }
   ],
   "source": [
    "# クラスター 0 の平均値\n",
    "df_cluster[df_cluster['cluster'] == 0].mean().tolist()"
   ]
  },
  {
   "cell_type": "code",
   "execution_count": 29,
   "metadata": {},
   "outputs": [
    {
     "data": {
      "text/html": [
       "<div>\n",
       "<style scoped>\n",
       "    .dataframe tbody tr th:only-of-type {\n",
       "        vertical-align: middle;\n",
       "    }\n",
       "\n",
       "    .dataframe tbody tr th {\n",
       "        vertical-align: top;\n",
       "    }\n",
       "\n",
       "    .dataframe thead th {\n",
       "        text-align: right;\n",
       "    }\n",
       "</style>\n",
       "<table border=\"1\" class=\"dataframe\">\n",
       "  <thead>\n",
       "    <tr style=\"text-align: right;\">\n",
       "      <th></th>\n",
       "      <th>cluster 0</th>\n",
       "      <th>cluster 1</th>\n",
       "      <th>cluster 2</th>\n",
       "    </tr>\n",
       "  </thead>\n",
       "  <tbody>\n",
       "    <tr>\n",
       "      <th>0</th>\n",
       "      <td>37.806452</td>\n",
       "      <td>46.250000</td>\n",
       "      <td>13.533333</td>\n",
       "    </tr>\n",
       "    <tr>\n",
       "      <th>1</th>\n",
       "      <td>5043.548387</td>\n",
       "      <td>28681.250000</td>\n",
       "      <td>17266.666667</td>\n",
       "    </tr>\n",
       "    <tr>\n",
       "      <th>2</th>\n",
       "      <td>3486.419355</td>\n",
       "      <td>5637.666667</td>\n",
       "      <td>2730.933333</td>\n",
       "    </tr>\n",
       "    <tr>\n",
       "      <th>3</th>\n",
       "      <td>7017.741935</td>\n",
       "      <td>1298.750000</td>\n",
       "      <td>10721.666667</td>\n",
       "    </tr>\n",
       "    <tr>\n",
       "      <th>4</th>\n",
       "      <td>2206.000000</td>\n",
       "      <td>1271.000000</td>\n",
       "      <td>590.866667</td>\n",
       "    </tr>\n",
       "    <tr>\n",
       "      <th>5</th>\n",
       "      <td>2512.903226</td>\n",
       "      <td>1770.875000</td>\n",
       "      <td>3447.333333</td>\n",
       "    </tr>\n",
       "    <tr>\n",
       "      <th>6</th>\n",
       "      <td>3509.129032</td>\n",
       "      <td>716.958333</td>\n",
       "      <td>9851.200000</td>\n",
       "    </tr>\n",
       "    <tr>\n",
       "      <th>7</th>\n",
       "      <td>0.000000</td>\n",
       "      <td>1.000000</td>\n",
       "      <td>2.000000</td>\n",
       "    </tr>\n",
       "  </tbody>\n",
       "</table>\n",
       "</div>"
      ],
      "text/plain": [
       "     cluster 0     cluster 1     cluster 2\n",
       "0    37.806452     46.250000     13.533333\n",
       "1  5043.548387  28681.250000  17266.666667\n",
       "2  3486.419355   5637.666667   2730.933333\n",
       "3  7017.741935   1298.750000  10721.666667\n",
       "4  2206.000000   1271.000000    590.866667\n",
       "5  2512.903226   1770.875000   3447.333333\n",
       "6  3509.129032    716.958333   9851.200000\n",
       "7     0.000000      1.000000      2.000000"
      ]
     },
     "execution_count": 29,
     "metadata": {},
     "output_type": "execute_result"
    }
   ],
   "source": [
    "# 各クラスターの平均値を追加\n",
    "df_results['cluster 0'] = df_cluster[df_cluster['cluster'] == 0].mean().tolist()\n",
    "df_results['cluster 1'] = df_cluster[df_cluster['cluster'] == 1].mean().tolist()\n",
    "df_results['cluster 2'] = df_cluster[df_cluster['cluster'] == 2].mean().tolist()\n",
    "\n",
    "df_results"
   ]
  },
  {
   "cell_type": "code",
   "execution_count": 30,
   "metadata": {},
   "outputs": [],
   "source": [
    "# Index に列名を追加\n",
    "df_results = df_results.set_index(df_cluster.columns) \n",
    "\n",
    "# 転置\n",
    "df_results = df_results.drop(['No', 'cluster']).T"
   ]
  },
  {
   "cell_type": "code",
   "execution_count": 31,
   "metadata": {},
   "outputs": [
    {
     "data": {
      "text/html": [
       "<div>\n",
       "<style scoped>\n",
       "    .dataframe tbody tr th:only-of-type {\n",
       "        vertical-align: middle;\n",
       "    }\n",
       "\n",
       "    .dataframe tbody tr th {\n",
       "        vertical-align: top;\n",
       "    }\n",
       "\n",
       "    .dataframe thead th {\n",
       "        text-align: right;\n",
       "    }\n",
       "</style>\n",
       "<table border=\"1\" class=\"dataframe\">\n",
       "  <thead>\n",
       "    <tr style=\"text-align: right;\">\n",
       "      <th></th>\n",
       "      <th>弁当・麺類</th>\n",
       "      <th>飲料</th>\n",
       "      <th>おにぎり・サンドイッチ</th>\n",
       "      <th>スイーツ</th>\n",
       "      <th>カップスープ</th>\n",
       "      <th>サラダ</th>\n",
       "    </tr>\n",
       "  </thead>\n",
       "  <tbody>\n",
       "    <tr>\n",
       "      <th>cluster 0</th>\n",
       "      <td>5043.548387</td>\n",
       "      <td>3486.419355</td>\n",
       "      <td>7017.741935</td>\n",
       "      <td>2206.000000</td>\n",
       "      <td>2512.903226</td>\n",
       "      <td>3509.129032</td>\n",
       "    </tr>\n",
       "    <tr>\n",
       "      <th>cluster 1</th>\n",
       "      <td>28681.250000</td>\n",
       "      <td>5637.666667</td>\n",
       "      <td>1298.750000</td>\n",
       "      <td>1271.000000</td>\n",
       "      <td>1770.875000</td>\n",
       "      <td>716.958333</td>\n",
       "    </tr>\n",
       "    <tr>\n",
       "      <th>cluster 2</th>\n",
       "      <td>17266.666667</td>\n",
       "      <td>2730.933333</td>\n",
       "      <td>10721.666667</td>\n",
       "      <td>590.866667</td>\n",
       "      <td>3447.333333</td>\n",
       "      <td>9851.200000</td>\n",
       "    </tr>\n",
       "  </tbody>\n",
       "</table>\n",
       "</div>"
      ],
      "text/plain": [
       "                  弁当・麺類           飲料   おにぎり・サンドイッチ         スイーツ       カップスープ  \\\n",
       "cluster 0   5043.548387  3486.419355   7017.741935  2206.000000  2512.903226   \n",
       "cluster 1  28681.250000  5637.666667   1298.750000  1271.000000  1770.875000   \n",
       "cluster 2  17266.666667  2730.933333  10721.666667   590.866667  3447.333333   \n",
       "\n",
       "                   サラダ  \n",
       "cluster 0  3509.129032  \n",
       "cluster 1   716.958333  \n",
       "cluster 2  9851.200000  "
      ]
     },
     "execution_count": 31,
     "metadata": {},
     "output_type": "execute_result"
    }
   ],
   "source": [
    "# 結果の表示\n",
    "df_results"
   ]
  }
 ],
 "metadata": {
  "kernelspec": {
   "display_name": "Python 3",
   "language": "python",
   "name": "python3"
  },
  "language_info": {
   "codemirror_mode": {
    "name": "ipython",
    "version": 3
   },
   "file_extension": ".py",
   "mimetype": "text/x-python",
   "name": "python",
   "nbconvert_exporter": "python",
   "pygments_lexer": "ipython3",
   "version": "3.7.6"
  }
 },
 "nbformat": 4,
 "nbformat_minor": 4
}
